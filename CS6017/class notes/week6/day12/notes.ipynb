{
 "cells": [
  {
   "cell_type": "markdown",
   "metadata": {},
   "source": [
    "# Funny Money \n",
    "\n",
    "SEE HIS SOLUTION. MINE IS CRAP. ://///"
   ]
  },
  {
   "cell_type": "code",
   "execution_count": 7,
   "metadata": {},
   "outputs": [
    {
     "name": "stdout",
     "output_type": "stream",
     "text": [
      "{'uci_id': 267, 'name': 'Banknote Authentication', 'repository_url': 'https://archive.ics.uci.edu/dataset/267/banknote+authentication', 'data_url': 'https://archive.ics.uci.edu/static/public/267/data.csv', 'abstract': 'Data were extracted from images that were taken for the evaluation of an authentication procedure for banknotes.', 'area': 'Computer Science', 'tasks': ['Classification'], 'characteristics': ['Multivariate'], 'num_instances': 1372, 'num_features': 4, 'feature_types': ['Real'], 'demographics': [], 'target_col': ['class'], 'index_col': None, 'has_missing_values': 'no', 'missing_values_symbol': None, 'year_of_dataset_creation': 2012, 'last_updated': 'Fri Feb 16 2024', 'dataset_doi': '10.24432/C55P57', 'creators': ['Volker Lohweg'], 'intro_paper': None, 'additional_info': {'summary': 'Data were extracted from images that were taken from genuine and forged banknote-like specimens.  For digitization, an industrial camera usually used for print inspection was used. The final images have 400x 400 pixels. Due to the object lens and distance to the investigated object gray-scale pictures with a resolution of about 660 dpi were gained. Wavelet Transform tool were used to extract features from images.  ', 'purpose': None, 'funded_by': None, 'instances_represent': None, 'recommended_data_splits': None, 'sensitive_data': None, 'preprocessing_description': None, 'variable_info': '       1. variance of Wavelet Transformed image (continuous) \\r\\n       2. skewness of Wavelet Transformed image (continuous)\\r\\n       3. curtosis of Wavelet Transformed image (continuous)\\r\\n       4. entropy of image (continuous)\\r\\n       5. class (integer) \\r\\n', 'citation': None}}\n",
      "       name     role        type demographic  \\\n",
      "0  variance  Feature  Continuous        None   \n",
      "1  skewness  Feature  Continuous        None   \n",
      "2  curtosis  Feature  Continuous        None   \n",
      "3   entropy  Feature  Continuous        None   \n",
      "4     class   Target     Integer        None   \n",
      "\n",
      "                             description units missing_values  \n",
      "0  variance of Wavelet Transformed image  None             no  \n",
      "1  skewness of Wavelet Transformed image  None             no  \n",
      "2  curtosis of Wavelet Transformed image  None             no  \n",
      "3                       entropy of image  None             no  \n",
      "4                                   None  None             no  \n"
     ]
    }
   ],
   "source": [
    "import seaborn as sns\n",
    "import pandas \n",
    "\n",
    "\n",
    "from ucimlrepo import fetch_ucirepo \n",
    "\n",
    "  \n",
    "# fetch dataset \n",
    "banknote_authentication = fetch_ucirepo(id=267) \n",
    "  \n",
    "# data (as pandas dataframes) \n",
    "X = banknote_authentication.data.features # other variables\n",
    "y = banknote_authentication.data.targets  # is it fake?\n",
    "  \n",
    "# metadata \n",
    "print(banknote_authentication.metadata) \n",
    "  \n",
    "# variable information \n",
    "print(banknote_authentication.variables) \n"
   ]
  },
  {
   "cell_type": "code",
   "execution_count": 15,
   "metadata": {},
   "outputs": [
    {
     "name": "stdout",
     "output_type": "stream",
     "text": [
      "{'ids': None, 'features':       variance  skewness  curtosis  entropy\n",
      "0      3.62160   8.66610   -2.8073 -0.44699\n",
      "1      4.54590   8.16740   -2.4586 -1.46210\n",
      "2      3.86600  -2.63830    1.9242  0.10645\n",
      "3      3.45660   9.52280   -4.0112 -3.59440\n",
      "4      0.32924  -4.45520    4.5718 -0.98880\n",
      "...        ...       ...       ...      ...\n",
      "1367   0.40614   1.34920   -1.4501 -0.55949\n",
      "1368  -1.38870  -4.87730    6.4774  0.34179\n",
      "1369  -3.75030 -13.45860   17.5932 -2.77710\n",
      "1370  -3.56370  -8.38270   12.3930 -1.28230\n",
      "1371  -2.54190  -0.65804    2.6842  1.19520\n",
      "\n",
      "[1372 rows x 4 columns], 'targets':       class\n",
      "0         0\n",
      "1         0\n",
      "2         0\n",
      "3         0\n",
      "4         0\n",
      "...     ...\n",
      "1367      1\n",
      "1368      1\n",
      "1369      1\n",
      "1370      1\n",
      "1371      1\n",
      "\n",
      "[1372 rows x 1 columns], 'original':       variance  skewness  curtosis  entropy  class\n",
      "0      3.62160   8.66610   -2.8073 -0.44699      0\n",
      "1      4.54590   8.16740   -2.4586 -1.46210      0\n",
      "2      3.86600  -2.63830    1.9242  0.10645      0\n",
      "3      3.45660   9.52280   -4.0112 -3.59440      0\n",
      "4      0.32924  -4.45520    4.5718 -0.98880      0\n",
      "...        ...       ...       ...      ...    ...\n",
      "1367   0.40614   1.34920   -1.4501 -0.55949      1\n",
      "1368  -1.38870  -4.87730    6.4774  0.34179      1\n",
      "1369  -3.75030 -13.45860   17.5932 -2.77710      1\n",
      "1370  -3.56370  -8.38270   12.3930 -1.28230      1\n",
      "1371  -2.54190  -0.65804    2.6842  1.19520      1\n",
      "\n",
      "[1372 rows x 5 columns], 'headers': Index(['variance', 'skewness', 'curtosis', 'entropy', 'class'], dtype='object')}\n"
     ]
    }
   ],
   "source": [
    "\n",
    "type(banknote_authentication)\n",
    "\n",
    "type(banknote_authentication.variables)\n",
    "\n",
    "print(banknote_authentication.data)\n"
   ]
  },
  {
   "cell_type": "code",
   "execution_count": 18,
   "metadata": {},
   "outputs": [],
   "source": [
    "import numpy as np\n",
    "import pandas as pd\n",
    "from sklearn import metrics\n",
    "from sklearn.model_selection import train_test_split\n",
    "from sklearn import tree\n",
    "from sklearn.feature_selection import SelectKBest, SelectPercentile\n",
    "from sklearn.feature_selection import chi2\n",
    "\n"
   ]
  },
  {
   "cell_type": "code",
   "execution_count": 27,
   "metadata": {},
   "outputs": [
    {
     "ename": "NameError",
     "evalue": "name 'data_banknote_authentication' is not defined",
     "output_type": "error",
     "traceback": [
      "\u001b[0;31m---------------------------------------------------------------------------\u001b[0m",
      "\u001b[0;31mNameError\u001b[0m                                 Traceback (most recent call last)",
      "Cell \u001b[0;32mIn[27], line 1\u001b[0m\n\u001b[0;32m----> 1\u001b[0m funnyMoney \u001b[38;5;241m=\u001b[39m pd\u001b[38;5;241m.\u001b[39mread_csv(\u001b[43mdata_banknote_authentication\u001b[49m\u001b[38;5;241m.\u001b[39mtxt) \u001b[38;5;66;03m# type: ignore\u001b[39;00m\n",
      "\u001b[0;31mNameError\u001b[0m: name 'data_banknote_authentication' is not defined"
     ]
    }
   ],
   "source": [
    "# funnyMoney = pd.read_csv(data_banknote_authentication.txt) # type: ignore\n",
    "\n",
    "\n",
    "\n"
   ]
  }
 ],
 "metadata": {
  "kernelspec": {
   "display_name": ".venv",
   "language": "python",
   "name": "python3"
  },
  "language_info": {
   "codemirror_mode": {
    "name": "ipython",
    "version": 3
   },
   "file_extension": ".py",
   "mimetype": "text/x-python",
   "name": "python",
   "nbconvert_exporter": "python",
   "pygments_lexer": "ipython3",
   "version": "3.12.3"
  }
 },
 "nbformat": 4,
 "nbformat_minor": 2
}
