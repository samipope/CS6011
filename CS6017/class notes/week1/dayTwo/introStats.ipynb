{
 "cells": [
  {
   "cell_type": "markdown",
   "metadata": {
    "nbpresent": {
     "id": "dac6427e-b8df-46f9-bfd3-b24427a73993"
    },
    "slideshow": {
     "slide_type": "slide"
    }
   },
   "source": [
    "# Introduction to Descriptive Statistics\n",
    "Adapted from *COMP 5360 / MATH 4100, University of Utah, http://datasciencecourse.net/*\n",
    "\n",
    "In this lecture, we'll cover \n",
    "- variable types \n",
    "- descriptive statistics in python (min, max, mean, median, std, var, histograms, quantiles) \n",
    "- correlation vs causation\n",
    "- confounding variables \n",
    "- descriptive vs. inferential statistics\n",
    "- discrete and continuous random variables (e.g.: Bernouilli, Binomial, Normal)"
   ]
  },
  {
   "cell_type": "markdown",
   "metadata": {
    "slideshow": {
     "slide_type": "slide"
    }
   },
   "source": [
    "## Variable types\n",
    "- **discrete variables**: values are discrete (e.g., year born, T/F)\n",
    "- **continuous variables**: values are real numbers (e.g., length)\n",
    "\n",
    "## Levels of measurement\n",
    "- **Categorical**: Unordered variables \n",
    "- **Ordinal**: There is an ordering but no implication of equal distance between the different points of the scale. \n",
    "- **Interval**: There are equal differences between successive points on the scale but the position of zero is arbitrary. \n",
    "- **Ratio**: The relative magnitudes of scores and the differences between them matter. The position of zero is fixed. "
   ]
  },
  {
   "cell_type": "markdown",
   "metadata": {
    "slideshow": {
     "slide_type": "slide"
    }
   },
   "source": [
    "## Categorical variables\n",
    "Unordered variables \n",
    "\n",
    "Examples: \n",
    "- Survey responses: sex (M/F), true or false (T/F), yes or no (Y/N) \n",
    "- size: S/M/L/XL \n",
    "- color: red, blue, green, etc.\n"
   ]
  },
  {
   "cell_type": "markdown",
   "metadata": {
    "slideshow": {
     "slide_type": "slide"
    }
   },
   "source": [
    "## Ordinal Variables\n",
    "There is an ordering but no implication of equal distance between the different points of the scale. \n",
    "\n",
    "\n",
    "Examples:\n",
    "- educational level (high school, some college, degree, graduate…) \n",
    "- on Likert scale of 1 to 5, how satisfied are you with your instructor? \n",
    "- social class (lower, middle, upper) \n",
    "\n",
    "- CAN ORDER THEM BUT THE DIFFERENCE OF MAGNITUDE IS DIFFERENT. EX MASTERS VS PHD AND MASTERS VS UNDERGRAD. ORDER BUT CAN'T SAY WHAT DIFFERENCE MEANS\n",
    "\n"
   ]
  },
  {
   "cell_type": "markdown",
   "metadata": {
    "slideshow": {
     "slide_type": "slide"
    }
   },
   "source": [
    "## Interval Variables \n",
    "There are equal differences between successive points on the scale but the position of zero is arbitrary.\n",
    "\n",
    "Examples:\n",
    "- Measurement of temperature using the Celsius or Fahrenheit scales.\n",
    "- Longitude \n",
    "\n",
    "\n"
   ]
  },
  {
   "cell_type": "markdown",
   "metadata": {
    "slideshow": {
     "slide_type": "slide"
    }
   },
   "source": [
    "## Ratio Variables\n",
    "The relative magnitudes of scores and the differences between them matter. The position of zero is fixed.\n",
    "\n",
    "Examples:\n",
    "- Absolute measure of temperature (Kelvin scale) \n",
    "- Age\n",
    "- Weight\n",
    "- Length\n",
    "\n",
    "WHAT WOULD WE USE FOR A RATIO OF TEMPERATURES -- KELVIN OR RANKIN. \n",
    "    KELVIN 0 IS ABSOLUTELY ZERO \n",
    "\n"
   ]
  },
  {
   "cell_type": "markdown",
   "metadata": {
    "slideshow": {
     "slide_type": "slide"
    }
   },
   "source": [
    "## Quiz!\n",
    "\n",
    "For each of the following variables, what is the variable type (discrete vs. continuous) and level of measurement (categorical, ordinal, interval, or ratio)?\n",
    "\n",
    "1. Lattitude\n",
    "    CONTINUOUS\n",
    "    RATIO\n",
    "2. Olympic 50 meter race times\n",
    "    CONTINOUS\n",
    "    RATIO\n",
    "3. College major\n",
    "    DISCRETE\n",
    "    CATEGORICAL\n",
    "4. Amazon rating for a product\n",
    "    ORDINAL\n",
    "    DISCRETE\n",
    "    \n",
    "\n",
    "Can you think of another example of an interval variable? \n",
    "\n",
    "\n",
    "\n"
   ]
  },
  {
   "cell_type": "markdown",
   "metadata": {
    "slideshow": {
     "slide_type": "slide"
    }
   },
   "source": [
    "## Descriptive Statistics\n",
    "\n",
    "The goal is to describe a dataset with a small number of statistics or figures  \n",
    "\n",
    "Suppose we are given a sample, $x_1, x_2, \\ldots, x_n$ of real values \n",
    "\n",
    "Some *descriptive statitsics* for this data are the min, max, median, and mean, $\\frac{1}{n} \\sum_{i=1}^n x_i$\n",
    "\n",
    "How do we compute these using python? \n"
   ]
  },
  {
   "cell_type": "code",
   "execution_count": 2,
   "metadata": {
    "slideshow": {
     "slide_type": "slide"
    }
   },
   "outputs": [
    {
     "name": "stderr",
     "output_type": "stream",
     "text": [
      "Matplotlib is building the font cache; this may take a moment.\n"
     ]
    }
   ],
   "source": [
    "# First import python packages\n",
    "# /usr/local/bin/pip3 install numpy matplotlib\n",
    "import numpy as np\n",
    "import pandas as pd\n",
    "\n",
    "import matplotlib.pyplot as plt\n",
    "%matplotlib inline\n",
    "plt.rcParams['figure.figsize'] = (10, 6)\n",
    "plt.style.use('ggplot')"
   ]
  },
  {
   "cell_type": "markdown",
   "metadata": {
    "slideshow": {
     "slide_type": "slide"
    }
   },
   "source": [
    "## Alta monthly average snowfall, October - April\n",
    "compiled using data from 1980 to 2014 <br>\n",
    "https://www.alta.com/conditions/weather-observations/snowfall-history"
   ]
  },
  {
   "cell_type": "code",
   "execution_count": 3,
   "metadata": {
    "nbpresent": {
     "id": "61e1167e-99ef-4b5d-b717-07a46077a091"
    },
    "slideshow": {
     "slide_type": "-"
    }
   },
   "outputs": [
    {
     "name": "stdout",
     "output_type": "stream",
     "text": [
      "<class 'list'>\n",
      "<class 'float'>\n"
     ]
    }
   ],
   "source": [
    "Alta_avg_month_snow = [28.50,76.77,92.00,95.40,90.85,99.66,80.00]\n",
    "\n",
    "# this is a list of floats\n",
    "print(type(Alta_avg_month_snow))\n",
    "print(type(Alta_avg_month_snow[0]))"
   ]
  },
  {
   "cell_type": "code",
   "execution_count": 4,
   "metadata": {},
   "outputs": [
    {
     "data": {
      "text/plain": [
       "7"
      ]
     },
     "execution_count": 4,
     "metadata": {},
     "output_type": "execute_result"
    }
   ],
   "source": [
    "# how many months data do we have?\n",
    "len(Alta_avg_month_snow)"
   ]
  },
  {
   "cell_type": "code",
   "execution_count": 5,
   "metadata": {},
   "outputs": [
    {
     "name": "stdout",
     "output_type": "stream",
     "text": [
      "80.4542857142857\n"
     ]
    },
    {
     "data": {
      "text/plain": [
       "80.4542857142857"
      ]
     },
     "execution_count": 5,
     "metadata": {},
     "output_type": "execute_result"
    }
   ],
   "source": [
    "print(sum(Alta_avg_month_snow)/len(Alta_avg_month_snow))\n",
    "np.mean(Alta_avg_month_snow)"
   ]
  },
  {
   "cell_type": "markdown",
   "metadata": {},
   "source": [
    "Numpy has methods for many basic statistics and other functions that work on \"list-like\" things"
   ]
  },
  {
   "cell_type": "code",
   "execution_count": 5,
   "metadata": {},
   "outputs": [
    {
     "data": {
      "text/plain": [
       "(28.5, 99.66)"
      ]
     },
     "execution_count": 5,
     "metadata": {},
     "output_type": "execute_result"
    }
   ],
   "source": [
    "# compute the min and max\n",
    "np.min(Alta_avg_month_snow),np.max(Alta_avg_month_snow)"
   ]
  },
  {
   "cell_type": "code",
   "execution_count": 6,
   "metadata": {
    "nbpresent": {
     "id": "86c3f014-9535-48f0-95a2-df74d16eaa69"
    }
   },
   "outputs": [
    {
     "name": "stdout",
     "output_type": "stream",
     "text": [
      "Oct March\n",
      "28.5 99.66\n"
     ]
    }
   ],
   "source": [
    "# what month do these correspond to? \n",
    "imin = np.argmin(Alta_avg_month_snow)\n",
    "imax = np.argmax(Alta_avg_month_snow)\n",
    "months = ['Oct','Nov','Dec','Jan','Feb','March','Apr']\n",
    "print(months[imin], months[imax])\n",
    "print(Alta_avg_month_snow[imin], Alta_avg_month_snow[imax])"
   ]
  },
  {
   "cell_type": "code",
   "execution_count": 8,
   "metadata": {
    "nbpresent": {
     "id": "be5bedf1-b9ed-4caa-bc3e-6c390df97946"
    }
   },
   "outputs": [
    {
     "name": "stdout",
     "output_type": "stream",
     "text": [
      "80.4542857142857\n",
      "22.509161218835104\n"
     ]
    }
   ],
   "source": [
    "# compute the mean\n",
    "print(np.mean(Alta_avg_month_snow))\n",
    "print(np.std(Alta_avg_month_snow))"
   ]
  },
  {
   "cell_type": "code",
   "execution_count": 8,
   "metadata": {
    "nbpresent": {
     "id": "4992f285-654f-485e-81ef-8a6ae18cad34"
    }
   },
   "outputs": [
    {
     "data": {
      "text/plain": [
       "90.85"
      ]
     },
     "execution_count": 8,
     "metadata": {},
     "output_type": "execute_result"
    }
   ],
   "source": [
    "# compute the median\n",
    "np.median(Alta_avg_month_snow)"
   ]
  },
  {
   "cell_type": "markdown",
   "metadata": {
    "nbpresent": {
     "id": "de60c848-d1fb-478d-a736-0ebe21762a24"
    },
    "slideshow": {
     "slide_type": "slide"
    }
   },
   "source": [
    "## Data from the 1994 census\n",
    "\n",
    "import data from the following dataset <br>\n",
    "https://archive.ics.uci.edu/ml/datasets/Adult"
   ]
  },
  {
   "cell_type": "code",
   "execution_count": 9,
   "metadata": {
    "nbpresent": {
     "id": "a6fd92a3-b57e-45c5-b216-f9f475baf8ce"
    }
   },
   "outputs": [
    {
     "name": "stdout",
     "output_type": "stream",
     "text": [
      "<class 'pandas.core.frame.DataFrame'>\n"
     ]
    }
   ],
   "source": [
    "# use pandas to import a table of data from a website\n",
    "data = pd.read_csv(\"http://archive.ics.uci.edu/ml/machine-learning-databases/adult/adult.data\", sep=\",\", \n",
    "                  names=(\"age\", \"type_employer\", \"fnlwgt\", \"education\", \"education_num\", \"marital\", \n",
    "                         \"occupation\", \"relationship\", \"race\",\"sex\",\"capital_gain\", \"capital_loss\", \n",
    "                         \"hr_per_week\",\"country\", \"income\"))\n",
    "print(type(data))"
   ]
  },
  {
   "cell_type": "code",
   "execution_count": 10,
   "metadata": {
    "scrolled": true
   },
   "outputs": [
    {
     "data": {
      "text/html": [
       "<div>\n",
       "<style scoped>\n",
       "    .dataframe tbody tr th:only-of-type {\n",
       "        vertical-align: middle;\n",
       "    }\n",
       "\n",
       "    .dataframe tbody tr th {\n",
       "        vertical-align: top;\n",
       "    }\n",
       "\n",
       "    .dataframe thead th {\n",
       "        text-align: right;\n",
       "    }\n",
       "</style>\n",
       "<table border=\"1\" class=\"dataframe\">\n",
       "  <thead>\n",
       "    <tr style=\"text-align: right;\">\n",
       "      <th></th>\n",
       "      <th>age</th>\n",
       "      <th>fnlwgt</th>\n",
       "      <th>education_num</th>\n",
       "      <th>capital_gain</th>\n",
       "      <th>capital_loss</th>\n",
       "      <th>hr_per_week</th>\n",
       "    </tr>\n",
       "  </thead>\n",
       "  <tbody>\n",
       "    <tr>\n",
       "      <th>count</th>\n",
       "      <td>32561.000000</td>\n",
       "      <td>3.256100e+04</td>\n",
       "      <td>32561.000000</td>\n",
       "      <td>32561.000000</td>\n",
       "      <td>32561.000000</td>\n",
       "      <td>32561.000000</td>\n",
       "    </tr>\n",
       "    <tr>\n",
       "      <th>mean</th>\n",
       "      <td>38.581647</td>\n",
       "      <td>1.897784e+05</td>\n",
       "      <td>10.080679</td>\n",
       "      <td>1077.648844</td>\n",
       "      <td>87.303830</td>\n",
       "      <td>40.437456</td>\n",
       "    </tr>\n",
       "    <tr>\n",
       "      <th>std</th>\n",
       "      <td>13.640433</td>\n",
       "      <td>1.055500e+05</td>\n",
       "      <td>2.572720</td>\n",
       "      <td>7385.292085</td>\n",
       "      <td>402.960219</td>\n",
       "      <td>12.347429</td>\n",
       "    </tr>\n",
       "    <tr>\n",
       "      <th>min</th>\n",
       "      <td>17.000000</td>\n",
       "      <td>1.228500e+04</td>\n",
       "      <td>1.000000</td>\n",
       "      <td>0.000000</td>\n",
       "      <td>0.000000</td>\n",
       "      <td>1.000000</td>\n",
       "    </tr>\n",
       "    <tr>\n",
       "      <th>25%</th>\n",
       "      <td>28.000000</td>\n",
       "      <td>1.178270e+05</td>\n",
       "      <td>9.000000</td>\n",
       "      <td>0.000000</td>\n",
       "      <td>0.000000</td>\n",
       "      <td>40.000000</td>\n",
       "    </tr>\n",
       "    <tr>\n",
       "      <th>50%</th>\n",
       "      <td>37.000000</td>\n",
       "      <td>1.783560e+05</td>\n",
       "      <td>10.000000</td>\n",
       "      <td>0.000000</td>\n",
       "      <td>0.000000</td>\n",
       "      <td>40.000000</td>\n",
       "    </tr>\n",
       "    <tr>\n",
       "      <th>75%</th>\n",
       "      <td>48.000000</td>\n",
       "      <td>2.370510e+05</td>\n",
       "      <td>12.000000</td>\n",
       "      <td>0.000000</td>\n",
       "      <td>0.000000</td>\n",
       "      <td>45.000000</td>\n",
       "    </tr>\n",
       "    <tr>\n",
       "      <th>max</th>\n",
       "      <td>90.000000</td>\n",
       "      <td>1.484705e+06</td>\n",
       "      <td>16.000000</td>\n",
       "      <td>99999.000000</td>\n",
       "      <td>4356.000000</td>\n",
       "      <td>99.000000</td>\n",
       "    </tr>\n",
       "  </tbody>\n",
       "</table>\n",
       "</div>"
      ],
      "text/plain": [
       "                age        fnlwgt  education_num  capital_gain  capital_loss  \\\n",
       "count  32561.000000  3.256100e+04   32561.000000  32561.000000  32561.000000   \n",
       "mean      38.581647  1.897784e+05      10.080679   1077.648844     87.303830   \n",
       "std       13.640433  1.055500e+05       2.572720   7385.292085    402.960219   \n",
       "min       17.000000  1.228500e+04       1.000000      0.000000      0.000000   \n",
       "25%       28.000000  1.178270e+05       9.000000      0.000000      0.000000   \n",
       "50%       37.000000  1.783560e+05      10.000000      0.000000      0.000000   \n",
       "75%       48.000000  2.370510e+05      12.000000      0.000000      0.000000   \n",
       "max       90.000000  1.484705e+06      16.000000  99999.000000   4356.000000   \n",
       "\n",
       "        hr_per_week  \n",
       "count  32561.000000  \n",
       "mean      40.437456  \n",
       "std       12.347429  \n",
       "min        1.000000  \n",
       "25%       40.000000  \n",
       "50%       40.000000  \n",
       "75%       45.000000  \n",
       "max       99.000000  "
      ]
     },
     "execution_count": 10,
     "metadata": {},
     "output_type": "execute_result"
    }
   ],
   "source": [
    "data.describe()"
   ]
  },
  {
   "cell_type": "code",
   "execution_count": 13,
   "metadata": {},
   "outputs": [
    {
     "name": "stdout",
     "output_type": "stream",
     "text": [
      "<class 'pandas.core.frame.DataFrame'>\n"
     ]
    },
    {
     "data": {
      "text/plain": [
       "pandas.core.series.Series"
      ]
     },
     "execution_count": 13,
     "metadata": {},
     "output_type": "execute_result"
    }
   ],
   "source": [
    "print(type(data)) #data type is a dataframe \n",
    "type(data[\"age\"])\n",
    "# the columns are a series. "
   ]
  },
  {
   "cell_type": "code",
   "execution_count": 14,
   "metadata": {},
   "outputs": [
    {
     "data": {
      "text/plain": [
       "0    39\n",
       "1    50\n",
       "2    38\n",
       "3    53\n",
       "4    28\n",
       "Name: age, dtype: int64"
      ]
     },
     "execution_count": 14,
     "metadata": {},
     "output_type": "execute_result"
    }
   ],
   "source": [
    "data[\"age\"].head()"
   ]
  },
  {
   "cell_type": "code",
   "execution_count": null,
   "metadata": {},
   "outputs": [],
   "source": []
  },
  {
   "cell_type": "code",
   "execution_count": 15,
   "metadata": {},
   "outputs": [
    {
     "data": {
      "text/plain": [
       "list"
      ]
     },
     "execution_count": 15,
     "metadata": {},
     "output_type": "execute_result"
    }
   ],
   "source": [
    "# export a list containing ages of people in 1994 Census\n",
    "ages = data[\"age\"].tolist() # can change it to a list or to an array\n",
    "type(ages)"
   ]
  },
  {
   "cell_type": "code",
   "execution_count": 16,
   "metadata": {
    "nbpresent": {
     "id": "b79fa570-8c08-4820-a035-2a00bfae1a9b"
    }
   },
   "outputs": [
    {
     "name": "stdout",
     "output_type": "stream",
     "text": [
      "32561\n",
      "17\n",
      "90\n",
      "38.58164675532078\n",
      "37.0\n"
     ]
    }
   ],
   "source": [
    "print(len(ages))\n",
    "print(np.min(ages))\n",
    "print(np.max(ages))\n",
    "print(np.mean(ages))\n",
    "print(np.median(ages))"
   ]
  },
  {
   "cell_type": "code",
   "execution_count": 17,
   "metadata": {
    "nbpresent": {
     "id": "b79fa570-8c08-4820-a035-2a00bfae1a9b"
    }
   },
   "outputs": [
    {
     "name": "stdout",
     "output_type": "stream",
     "text": [
      "32561\n",
      "17\n",
      "90\n",
      "38.58164675532078\n",
      "37.0\n"
     ]
    }
   ],
   "source": [
    "print(len(data[\"age\"]))\n",
    "print(np.min(data[\"age\"]))\n",
    "print(np.max(data[\"age\"]))\n",
    "print(np.mean(data[\"age\"]))\n",
    "print(np.median(data[\"age\"]))"
   ]
  },
  {
   "cell_type": "markdown",
   "metadata": {
    "nbpresent": {
     "id": "e6a51e7a-d63e-4187-8899-bfbf03f8a4b6"
    },
    "slideshow": {
     "slide_type": "slide"
    }
   },
   "source": [
    "# Quantiles \n",
    "Quantiles describe what percentage of the observations in a sample have smaller value\n"
   ]
  },
  {
   "cell_type": "code",
   "execution_count": 18,
   "metadata": {
    "nbpresent": {
     "id": "a912604c-786a-448e-a908-397f28b46a13"
    },
    "slideshow": {
     "slide_type": "-"
    }
   },
   "outputs": [
    {
     "data": {
      "text/plain": [
       "(28.0, 48.0)"
      ]
     },
     "execution_count": 18,
     "metadata": {},
     "output_type": "execute_result"
    }
   ],
   "source": [
    "np.percentile(ages,25), np.percentile(ages,75)"
   ]
  },
  {
   "cell_type": "markdown",
   "metadata": {
    "slideshow": {
     "slide_type": "-"
    }
   },
   "source": [
    "For this data, 25% of the people are under 28 years old\n",
    "\n",
    "The middle 50% of the data (the data between the 25% and 75% quantiles) is between 28 and 48 years old \n",
    "\n",
    "**Question**: how do I read off quantiles from a histogram? "
   ]
  },
  {
   "cell_type": "markdown",
   "metadata": {
    "slideshow": {
     "slide_type": "slide"
    }
   },
   "source": [
    "# Variance and Standard Deviation\n",
    "\n",
    "Variance and standard deviation quantify the amount of variation or dispersion of a set of data values.\n",
    "\n",
    "Mean, $\\mu = \\frac{1}{n} \\sum_{i = 1}^n x_i$ <br>\n",
    "Variance $= \\sigma^2   = \\frac{1}{n} \\sum_{i = 1}^n (x_i - \\mu)^2$ <br>\n",
    "Std. dev. $= \\sigma$\n",
    "\n",
    "The variance can also be computed by the \"mean of x-squared\" - $\\mu^2$\n"
   ]
  },
  {
   "cell_type": "code",
   "execution_count": 19,
   "metadata": {
    "slideshow": {
     "slide_type": "-"
    }
   },
   "outputs": [
    {
     "name": "stdout",
     "output_type": "stream",
     "text": [
      "186.05568600783081\n",
      "13.640223092304275\n",
      "186.05568600783081\n"
     ]
    }
   ],
   "source": [
    "print(np.var(ages))\n",
    "print(np.std(ages))\n",
    "print(np.std(ages)**2)"
   ]
  },
  {
   "cell_type": "markdown",
   "metadata": {
    "slideshow": {
     "slide_type": "-"
    }
   },
   "source": [
    "In terms of the histogram,...\n",
    "<img src=\"SmallLargeStandDev.png\" width=\"50%\"  alt=\"https://en.wikipedia.org/wiki/Correlation_and_dependence#/media/File:Correlation_examples2.svg\">\n",
    "\n"
   ]
  },
  {
   "cell_type": "markdown",
   "metadata": {
    "slideshow": {
     "slide_type": "slide"
    }
   },
   "source": [
    "## Covariance and Correlation\n",
    "Covariance and correlation measure of how much two variables change together.\n",
    "\n",
    "$cov(x,y) = \\frac{1}{n} \\sum_{i=1}^n (x_i - \\mu_x)(y_i - \\mu_y)$ \n",
    "\n",
    "$\\mu_x$ is mean of $x_1,x_2,\\ldots,x_n$ <br>\n",
    "$\\mu_y$ is mean of $y_1,y_2,\\ldots,y_n$\n",
    "\n",
    "$corr(x,y) = \\frac{cov(X,Y)}{\\sigma_x \\sigma_y}$\n",
    "\n",
    "$\\sigma_x$ is std. dev. of $x_1,x_2,\\ldots,x_n$ <br>\n",
    "$\\sigma_y$ is std. dev. of $y_1,y_2,\\ldots,y_n$\n",
    "\n",
    "Correlations for various pairs of variables:\n",
    "<img src=\"Correlation_examples2.svg\" width=\"90%\"  alt=\"https://en.wikipedia.org/wiki/Correlation_and_dependence#/media/File:Correlation_examples2.svg\">\n",
    "\n",
    "\n",
    "\n"
   ]
  },
  {
   "cell_type": "markdown",
   "metadata": {
    "slideshow": {
     "slide_type": "slide"
    }
   },
   "source": [
    "## Correlation vs Causation\n",
    "\n",
    "<img src=\"correlation.png\" width=\"100%\"  alt=\"https://xkcd.com/552/\">\n",
    "\n",
    "\n"
   ]
  },
  {
   "cell_type": "markdown",
   "metadata": {
    "slideshow": {
     "slide_type": "slide"
    }
   },
   "source": [
    "## Spurious Correlations I (www.tylervigen.com)\n",
    "\n",
    "<img src=\"Conf1.png\" width=\"100%\"  alt=\"www.tylervigen.com\">\n",
    "\n"
   ]
  },
  {
   "cell_type": "markdown",
   "metadata": {},
   "source": [
    "SETS OF DATA WITH HIGH CORRELATION FOR NO REASON AT ALL"
   ]
  },
  {
   "cell_type": "markdown",
   "metadata": {
    "slideshow": {
     "slide_type": "slide"
    }
   },
   "source": [
    "## Spurious Correlations II (www.tylervigen.com)\n",
    "\n",
    "<img src=\"Conf2.png\" width=\"100%\" alt=\"www.tylervigen.com\">\n"
   ]
  },
  {
   "cell_type": "markdown",
   "metadata": {
    "slideshow": {
     "slide_type": "slide"
    }
   },
   "source": [
    "## Confounding: example\n",
    "\n",
    "Suppose we are given city statistics covering a four-month summer period, and observe that swimming pool deaths tend to increase on days when more ice cream is sold. \n",
    "\n",
    "Should we conclude that ice cream is the killer? "
   ]
  },
  {
   "cell_type": "markdown",
   "metadata": {
    "slideshow": {
     "slide_type": "slide"
    }
   },
   "source": [
    "## Confounding: example cont.\n",
    "\n",
    "No! \n",
    "\n",
    "As astute analysts, we identify average daily temperature as a confounding variable: on hotter days, people are more likely to both buy ice cream and visit swimming pools. \n",
    "\n",
    "Regression methods can be used to statistically control for this confounding variable, eliminating the direct relationship between ice cream sales and swimming pool deaths.\n",
    "\n",
    "<br> <br> <br> <br> \n",
    "source: doi:10.1371/journal.pone.0152719 \n"
   ]
  },
  {
   "cell_type": "markdown",
   "metadata": {
    "slideshow": {
     "slide_type": "slide"
    }
   },
   "source": [
    "## Descriptive vs. Inferential Statistics \n",
    "\n",
    "Descriptive statistics quantitatively describe or summarize features of a dataset. \n",
    "\n",
    "Inferential statistics attempts to learn about the population from which the data was sampled. \n",
    "\n",
    "**Example**: The week before a US presidential election, it is not possible to ask every voting person who they intend to vote for. Instead, a relatively small number of individuals are surveyed. The *hope* is that we can determine the population's preferred candidate from the surveyed results. \n",
    "\n",
    "Often, we will model the population as a *probability distribution*. \n",
    "\n",
    "*Inferential statistics* is deducing properties of an underlying probability distribution from sampled data. \n"
   ]
  },
  {
   "cell_type": "markdown",
   "metadata": {
    "slideshow": {
     "slide_type": "slide"
    }
   },
   "source": [
    "## Random Variables\n",
    "\n",
    "A Random variable is a variable whose value is one of the possible outcomes of a random event.  For example, a random variable representing a die roll has possible values 1-6.  A random variable has an associated \"probability distribution\" which describes the probability of the variable taking on a particular value.  For the die, the probability distribution is basically: `[1 : 1/6, 2: 1/6, 3: 1/6, ... ]` meaning each outcome is equally likely.  \n",
    "\n",
    "Random variables can be either discrete or continuous.  A die is an example of a discrete random variable.  A continuous random variable could represent the angle of a spinner on a board game (assuming we care about the angle it lands on rather than whether it lands on \"right foot green\" or \"left hand blue\").  Discrete random variables are a bit more intuitive to think about since we can enumerate all the possibiliities, but the math for analyzing them can be a bit more cumbersome.  Continuous RVs are a little bit weird to think about, but we can manipulate them quite nicely with fun, basic calculus!  \n",
    "\n",
    "As an example, what's the probability that my random variable for the spinner give me a 30 degree angle?  0!  The probability of any single continuous value is 0, because there are an infinite number of possibilities (when we deal with floating point math, things aren't exactly 0, but are incredibly small!).  For continuous RVs, we have to think about the probablitiy of our value falling within a range (between 30 and 45 degrees) to get something finite.\n",
    "\n",
    "What do we do with a random variable?  We might take samples (roll the die a few times and collect the resulting values), or we might use the associated probabilitiy distribution to perform some analysis/computation."
   ]
  },
  {
   "cell_type": "markdown",
   "metadata": {
    "slideshow": {
     "slide_type": "slide"
    }
   },
   "source": [
    "## Bernoulli Distribution\n",
    "\n",
    "The Bernoulli distribution, named after Jacob Bernoulli, is the probability distribution of a random variable which takes the value 1 (success) with probability $p$ and the value 0 (failure) with probability $q=1-p$. \n",
    "\n",
    "The Bernoulli distribution with $p=0.5$ (implying $q=0.5$) describes a 'fair' coin toss where 1 and 0  represent \"heads\" and \"tails\", respectively. If the coin is unfair, then we would have that $p\\neq 0.5$.\n",
    "\n",
    "We can use python to sample from the Bernoulli probability distribution. "
   ]
  },
  {
   "cell_type": "code",
   "execution_count": 21,
   "metadata": {
    "slideshow": {
     "slide_type": "slide"
    }
   },
   "outputs": [],
   "source": [
    "import scipy as sc\n",
    "from scipy.stats import bernoulli\n",
    "from scipy.stats import binom\n",
    "from scipy.stats import norm"
   ]
  },
  {
   "cell_type": "code",
   "execution_count": 22,
   "metadata": {
    "slideshow": {
     "slide_type": "-"
    }
   },
   "outputs": [
    {
     "name": "stdout",
     "output_type": "stream",
     "text": [
      "[1 0 1 1 0 0 0 1 0 0 0 0 1 0 0 0 0 1 1 1 1 1 0 0 0 0 1 0 1 0 1 1 1 0 1 1 1\n",
      " 0 1 1 0 1 0 1 1 0 1 1 1 1 0 0 1 0 0 0 0 1 0 0 1 0 0 1 0 1 0 1 1 1 1 0 0 0\n",
      " 0 0 0 1 0 0 1 1 1 0 1 1 0 1 1 0 0 0 0 1 0 1 0 0 0 0 0 0 0 0 1 0 0 0 0 1 0\n",
      " 1 1 0 1 1 1 1 1 1 0 1 1 1 1 0 1 0 1 0 0 0 1 0 1 1 0 0 0 1 1 1 1 0 0 0 0 0\n",
      " 1 0 1 1 1 0 1 0 0 0 0 0 1 1 1 0 0 1 1 0 1 1 0 1 0 1 0 0 0 0 1 0 0 1 1 1 1\n",
      " 0 0 1 0 1 0 0 0 1 0 0 1 0 1 1 1 0 1 1 0 0 0 0 1 0 0 1 0 0 0 1 0 1 1 1 1 1\n",
      " 1 1 0 0 0 0 1 1 0 1 1 1 0 0 1 0 1 0 1 1 0 0 1 0 0 1 1 0 0 0 1 0 1 0 0 1 1\n",
      " 1 1 1 0 0 0 0 1 1 1 1 0 1 1 1 0 0 0 0 0 0 1 1 1 0 0 0 1 0 1 0 0 0 0 1 0 1\n",
      " 0 0 1 1 1 0 1 0 0 1 1 1 1 0 0 1 1 1 1 0 1 0 0 0 0 1 1 1 1 0 0 0 1 0 1 0 0\n",
      " 0 0 1 1 1 1 1 1 0 0 0 1 0 1 1 0 1 0 1 0 0 0 0 1 0 1 0 0 1 0 0 1 1 0 0 1 0\n",
      " 0 1 0 0 0 1 1 1 0 1 1 0 1 1 1 0 0 1 1 0 1 0 0 1 0 0 0 1 1 0 0 0 0 0 0 0 1\n",
      " 1 1 1 1 0 1 0 1 0 0 0 1 1 1 0 0 0 1 1 1 1 0 1 0 0 1 0 1 0 1 0 0 1 1 0 0 1\n",
      " 0 0 0 0 1 1 1 0 0 1 0 1 1 0 0 0 0 1 0 0 0 0 1 0 1 0 0 1 1 1 0 0 1 1 1 0 1\n",
      " 1 0 0 1 0 0 0 0 0 1 0 1 0 0 1 0 0 1 0 1 1 0 1 1 1 1 0 0 0 1 0 0 1 0 0 1 0\n",
      " 0 1 0 0 0 0 1 0 0 1 0 0 1 1 0 0 1 0 0 1 0 1 1 1 0 0 0 0 1 1 1 1 1 0 0 1 1\n",
      " 0 0 1 1 1 0 0 0 0 1 1 1 0 1 0 0 0 0 1 0 1 1 0 0 1 1 1 1 0 0 0 1 1 0 0 1 0\n",
      " 1 0 1 1 1 1 1 0 1 0 0 0 1 1 0 0 1 1 0 1 1 1 1 0 0 0 1 0 0 0 0 0 1 1 1 0 1\n",
      " 1 0 1 0 1 0 1 0 1 0 1 0 1 0 1 0 1 1 0 0 1 0 0 1 1 1 0 0 0 1 0 0 0 1 1 1 1\n",
      " 1 1 1 0 1 1 1 0 0 1 1 1 0 1 0 1 0 0 0 1 0 1 1 1 1 1 1 1 0 1 0 1 0 0 1 1 0\n",
      " 1 1 1 1 0 1 0 0 1 1 0 0 0 0 1 0 0 0 1 1 1 0 1 1 1 1 1 1 1 0 0 1 1 0 0 0 0\n",
      " 0 1 0 0 1 1 1 1 1 0 0 1 0 0 0 0 0 1 1 1 0 0 1 1 1 0 1 1 1 1 1 1 1 1 1 0 0\n",
      " 1 1 0 0 0 1 1 1 0 0 1 1 1 1 0 1 1 0 1 0 0 1 0 0 1 0 1 1 1 0 1 1 0 0 1 1 0\n",
      " 0 1 1 1 0 0 0 1 1 1 0 1 1 0 0 1 1 0 0 0 0 0 0 0 1 1 1 0 0 1 1 0 0 1 0 0 0\n",
      " 1 1 1 1 1 1 1 1 0 1 1 1 0 1 1 1 1 1 0 1 1 1 0 1 1 1 0 1 0 1 1 1 1 1 0 1 1\n",
      " 1 1 1 1 0 0 1 1 0 0 0 0 0 0 1 0 0 1 1 0 0 1 0 0 1 1 0 0 1 0 0 1 0 0 1 1 1\n",
      " 1 0 0 1 0 1 0 0 0 1 0 0 1 1 1 0 0 0 1 0 1 0 1 1 1 1 0 0 1 1 0 1 1 1 0 0 0\n",
      " 0 1 1 1 0 1 0 1 1 1 0 1 0 1 1 0 0 1 1 0 0 0 0 0 0 1 0 0 1 0 0 0 1 0 1 0 1\n",
      " 1]\n"
     ]
    }
   ],
   "source": [
    "n = 1000;\n",
    "coin_flips = bernoulli.rvs(p=0.5, size=n)\n",
    "print(coin_flips)"
   ]
  },
  {
   "cell_type": "markdown",
   "metadata": {
    "slideshow": {
     "slide_type": "-"
    }
   },
   "source": [
    "How many heads did we get? We just count the number of 1's. "
   ]
  },
  {
   "cell_type": "code",
   "execution_count": 19,
   "metadata": {
    "slideshow": {
     "slide_type": "-"
    }
   },
   "outputs": [
    {
     "name": "stdout",
     "output_type": "stream",
     "text": [
      "497\n",
      "0.497\n"
     ]
    }
   ],
   "source": [
    "print(sum(coin_flips))\n",
    "print(sum(coin_flips)/n)"
   ]
  },
  {
   "cell_type": "markdown",
   "metadata": {
    "slideshow": {
     "slide_type": "-"
    }
   },
   "source": [
    "What if we flip the coin more times? "
   ]
  },
  {
   "cell_type": "code",
   "execution_count": 23,
   "metadata": {
    "slideshow": {
     "slide_type": "-"
    }
   },
   "outputs": [
    {
     "name": "stdout",
     "output_type": "stream",
     "text": [
      "0.500549\n"
     ]
    }
   ],
   "source": [
    "n = 1000000\n",
    "coin_flips = bernoulli.rvs(p=0.5, size=n)\n",
    "print(sum(coin_flips)/n)"
   ]
  },
  {
   "cell_type": "markdown",
   "metadata": {
    "slideshow": {
     "slide_type": "-"
    }
   },
   "source": [
    "Some facts about Bernoulli variables: \n",
    "* mean is p\n",
    "* variance is p(1-p)"
   ]
  },
  {
   "cell_type": "markdown",
   "metadata": {
    "slideshow": {
     "slide_type": "slide"
    }
   },
   "source": [
    "## Binomial distribution\n",
    "\n",
    "The binomial distribution, with parameters $n$ and $p$, is a **discrete** probability distribution ``summarizing'' the outcome of $n$ Bernoulli random variables. For simplicity, take $p=0.5$ so that the Bernoulli distribution describes the outcome of a coin. For each flip, the probability of heads is $p$ (so the probability of tails is $q=1-p$). But we don't keep track of the individual flips. We only keep track of how many heads/tails there were in total. So, the binomial distribution can be thought of as summarizing a bunch of (independent) Bernoulli random variables. \n",
    "\n",
    "The following code is equivalent to flipping a fair (p=0.5) coin n=10 times and counting the number of heads and then repeating this process 1,000,000 times. "
   ]
  },
  {
   "cell_type": "code",
   "execution_count": 25,
   "metadata": {
    "scrolled": true
   },
   "outputs": [
    {
     "name": "stdout",
     "output_type": "stream",
     "text": [
      "[49 46 51 47 46 49 44 56 45 48 54 56 49 54 56 46 43 47 38 53 51 61 52 45\n",
      " 42 54 42 46 56 51 55 53 52 55 58 53 45 61 48 51 54 50 48 52 56 48 57 42\n",
      " 47 45 48 51 47 50 53 51 47 50 55 58 43 58 46 53 47 44 53 48 54 49 50 52\n",
      " 50 40 54 56 42 47 46 47 46 50 41 47 54 44 56 49 51 52 54 59 47 43 55 48\n",
      " 46 55 50 52]\n"
     ]
    }
   ],
   "source": [
    "p = 0.5\n",
    "n = 100\n",
    "bin_vars = binom.rvs(n=n,p=p,size=1000000)\n",
    "print(bin_vars[:100])"
   ]
  },
  {
   "cell_type": "code",
   "execution_count": 26,
   "metadata": {
    "scrolled": true
   },
   "outputs": [
    {
     "data": {
      "image/png": "[encoded data removed]",
      "text/plain": [
       "<Figure size 1000x600 with 1 Axes>"
      ]
     },
     "metadata": {},
     "output_type": "display_data"
    }
   ],
   "source": [
    "#bins=np.arange(12)-.5\n",
    "plt.hist(bin_vars, bins = 100,density=True) #density argument makes the y axis probability, not total count\n",
    "plt.title(\"A histogram of binomial random variables\")\n",
    "plt.xlim([-0.5,n + .5])\n",
    "plt.show()"
   ]
  },
  {
   "cell_type": "markdown",
   "metadata": {
    "slideshow": {
     "slide_type": "-"
    }
   },
   "source": [
    "Some facts about the binomial distribution: \n",
    "* The mean is $np$\n",
    "* The variance is $np(1-p)$"
   ]
  },
  {
   "cell_type": "markdown",
   "metadata": {
    "slideshow": {
     "slide_type": "slide"
    }
   },
   "source": [
    "## Discrete random variables and probability mass functions \n",
    "\n",
    "The Binomial and Bernoulli random variables are examples of *discrete random variables* since they can take only discrete values. A Bernoulli random variable can take values $0$ or $1$. A binomial random variable  can only take values \n",
    "$$\n",
    "0,1,\\ldots, n. \n",
    "$$\n",
    "One can compute the probability that the variable takes each value. This is called the *probability mass function*. \n",
    "For a Bernoulli random variable, the probability mass function is given by \n",
    "$$\n",
    "f(k) = \\begin{cases} p & k=1 \\\\ 1-p & k = 0 \\end{cases}\n",
    "$$\n",
    "For a binomial random variable, the probability mass function is given by \n",
    "$$\n",
    "f(k) = \\binom{n}{k} p^k (1-p)^{n-k}.\n",
    "$$\n",
    "Here, $\\binom{n}{k} = \\frac{n!}{k!(n-k)!}$ is the number of ways to arrange the\n",
    "$k$ heads among the $n$ flips. For a fair coin, we have $p=0.5$ and $f(k) = \\binom{n}{k} \\frac{1}{2^n}$. This is the number of ways to arrange $k$ heads among $n$ outcomes divided by the total number of outcomes. \n",
    "\n",
    "So basically the PMF is a function takes a possible outcome and returns the probability of sampling that outcome\n",
    "\n",
    "The probability mass function can be plotted using the matplotlib library as follows."
   ]
  },
  {
   "cell_type": "code",
   "execution_count": 27,
   "metadata": {
    "slideshow": {
     "slide_type": "-"
    }
   },
   "outputs": [
    {
     "data": {
      "image/png": "[encoded data removed]",
      "text/plain": [
       "<Figure size 1000x600 with 1 Axes>"
      ]
     },
     "metadata": {},
     "output_type": "display_data"
    }
   ],
   "source": [
    "f = lambda k: binom.pmf(k, n=n,p=p)\n",
    "\n",
    "x = np.arange(n+1);\n",
    "plt.plot(x, f(x),'*-')\n",
    "plt.title(\"The probability mass function for a Binomial random variable\")\n",
    "plt.xlim([0,n])\n",
    "plt.show()"
   ]
  },
  {
   "cell_type": "code",
   "execution_count": 24,
   "metadata": {},
   "outputs": [
    {
     "data": {
      "image/png": "[encoded data removed]",
      "text/plain": [
       "<Figure size 1000x600 with 1 Axes>"
      ]
     },
     "metadata": {},
     "output_type": "display_data"
    }
   ],
   "source": [
    "f = lambda k: binom.pmf(k, n=n,p=p)\n",
    "\n",
    "x = np.arange(n+1);\n",
    "plt.bar(x, f(x))\n",
    "plt.title(\"The probability mass function for a Binomial random variable\")\n",
    "plt.xlim([0,n])\n",
    "plt.show()"
   ]
  },
  {
   "cell_type": "markdown",
   "metadata": {
    "slideshow": {
     "slide_type": "-"
    }
   },
   "source": [
    "Observe that the probability mass function looks very much like the histogram plot! (not a coincidence) \n",
    "\n",
    "Question: is this a good way of visualizing a PMF?\n"
   ]
  },
  {
   "cell_type": "markdown",
   "metadata": {
    "slideshow": {
     "slide_type": "slide"
    }
   },
   "source": [
    "## Concept check\n",
    "\n",
    "**Question**: what is a discrete random variable? \n",
    "\n",
    "A *discrete random variable (r.v.)* is an abstraction of a coin or die. It can take on a *discrete* set of possible different values, each with a preassigned probability. We saw two examples of discrete random variables: Bernoulli and binomial.  A Bernoulli r.v. takes value $1$ with probability $p$ and $0$ with probability $1-p$. A binomial r.v. takes values $0,1,\\ldots,n$, with a given probability. The probabilities are given by the probability mass function. This function looks just like a histogram if you were to sample a large number of random variables. \n",
    "\n",
    "You can use the same descriptive statistics to describe a discrete random value (min, max, mean, variance, etc..).\n",
    "\n",
    "**Quiz**: what is the random variable that describes a fair die? the sum of two fair dice? "
   ]
  },
  {
   "cell_type": "markdown",
   "metadata": {
    "collapsed": true,
    "slideshow": {
     "slide_type": "slide"
    }
   },
   "source": [
    "## Normal (Gaussian) distribution \n",
    "\n",
    "Roughly speaking, normal (that's their name, we don't use normal as a synonym for typical) random variables are described by a \"bell curve\".  The curve is centered at the mean, $\\mu$, and has width controlled by the standard deviation, $\\sigma$. This is one of the most popular distributions in a huge variety of applications.  It has a simple formula which supports lots of algebraic/calculus manipulations, and is a good model for lots of real world phenomena.  It can be derived by looking at what happens when you add up many independent random variables (imagine a binomial distribution with very large n)."
   ]
  },
  {
   "cell_type": "code",
   "execution_count": 28,
   "metadata": {
    "slideshow": {
     "slide_type": "-"
    }
   },
   "outputs": [
    {
     "data": {
      "image/png": "[encoded data removed]",
      "text/plain": [
       "<Figure size 1000x600 with 1 Axes>"
      ]
     },
     "metadata": {},
     "output_type": "display_data"
    }
   ],
   "source": [
    "mu = 0 # mean\n",
    "sigma = 1 # standard deviation \n",
    "x = np.arange(mu-4*sigma,mu+4*sigma,0.001);\n",
    "pdf = norm.pdf(x,loc=mu, scale=sigma)\n",
    "# Here, I could have also written\n",
    "# pdf = 1/(sigma * np.sqrt(2 * np.pi)) * np.exp( - (x - mu)**2 / (2 * sigma**2)) \n",
    "plt.plot(x, pdf, linewidth=2, color='k')\n",
    "plt.show()"
   ]
  },
  {
   "cell_type": "markdown",
   "metadata": {
    "slideshow": {
     "slide_type": "slide"
    }
   },
   "source": [
    "## Continuous random variables and probability density functions \n",
    "\n",
    "A normal random variable is an example of a *continuous* random variable. A normal random variable can take any real value, but some numbers are more likely than others. More formally, we say that the *probability density function (PDF)* for the normal (Gaussian) distribution is\n",
    "$$\n",
    "f(x) = \\frac{1}{\\sqrt{ 2 \\pi \\sigma^2 }}\n",
    "e^{ - \\frac{ (x - \\mu)^2 } {2 \\sigma^2} },\n",
    "$$\n",
    "where $\\mu$ is the mean and $\\sigma$ is the variance. What this means is that the probability that a normal random variable will take values in the interval $[a,b]$ is given by \n",
    "$$\n",
    "\\int_a^b f(x) dx.\n",
    "$$\n",
    "This is just the area under the curve for this interval. For $a=\\mu-\\sigma$ and $b = \\mu+\\sigma$, we plot this below."
   ]
  },
  {
   "cell_type": "code",
   "execution_count": 29,
   "metadata": {
    "slideshow": {
     "slide_type": "-"
    }
   },
   "outputs": [
    {
     "data": {
      "image/png": "[encoded data removed]",
      "text/plain": [
       "<Figure size 1000x600 with 1 Axes>"
      ]
     },
     "metadata": {},
     "output_type": "display_data"
    }
   ],
   "source": [
    "plt.plot(x, pdf, linewidth=2, color='k')\n",
    "x2 = np.arange(mu-sigma,mu+sigma,0.001)\n",
    "plt.fill_between(x2, y1= norm.pdf(x2,loc=mu, scale=sigma), facecolor='red', alpha=0.5)\n",
    "plt.show()"
   ]
  },
  {
   "cell_type": "markdown",
   "metadata": {
    "slideshow": {
     "slide_type": "-"
    }
   },
   "source": [
    "One can check that \n",
    "$$\n",
    "\\int_{-\\infty}^\\infty f(x) dx = 1\n",
    "$$\n",
    "which just means that the probability that the random variable takes value between $-\\infty$ and $\\infty$ is one. \n",
    "\n",
    "This integral can be computed using the *cumulative distribution function* (CDF)\n",
    "$$\n",
    "F(x) = \\int_{-\\infty}^x f(x) dx.\n",
    "$$\n",
    "We have that \n",
    "$$\n",
    "\\int_a^b f(x) dx = F(b) - F(a)\n",
    "$$\n"
   ]
  },
  {
   "cell_type": "code",
   "execution_count": 27,
   "metadata": {
    "slideshow": {
     "slide_type": "-"
    }
   },
   "outputs": [
    {
     "data": {
      "text/plain": [
       "0.6826894921370859"
      ]
     },
     "execution_count": 27,
     "metadata": {},
     "output_type": "execute_result"
    }
   ],
   "source": [
    "norm.cdf(mu+sigma, loc=mu, scale=sigma) - norm.cdf(mu-sigma, loc=mu, scale=sigma) "
   ]
  },
  {
   "cell_type": "code",
   "execution_count": 3,
   "metadata": {},
   "outputs": [
    {
     "ename": "NameError",
     "evalue": "name 'np' is not defined",
     "output_type": "error",
     "traceback": [
      "\u001b[0;31m---------------------------------------------------------------------------\u001b[0m",
      "\u001b[0;31mNameError\u001b[0m                                 Traceback (most recent call last)",
      "\u001b[1;32m/Users/samanthapope/MSD/Github/CS6017/class notes/dayTwo/introStats.ipynb Cell 66\u001b[0m line \u001b[0;36m3\n\u001b[1;32m      <a href='vscode-notebook-cell:/Users/samanthapope/MSD/Github/CS6017/class%20notes/dayTwo/introStats.ipynb#Y122sZmlsZQ%3D%3D?line=0'>1</a>\u001b[0m mu \u001b[39m=\u001b[39m \u001b[39m0\u001b[39m \u001b[39m# mean\u001b[39;00m\n\u001b[1;32m      <a href='vscode-notebook-cell:/Users/samanthapope/MSD/Github/CS6017/class%20notes/dayTwo/introStats.ipynb#Y122sZmlsZQ%3D%3D?line=1'>2</a>\u001b[0m sigma \u001b[39m=\u001b[39m \u001b[39m1\u001b[39m \u001b[39m# standard deviation \u001b[39;00m\n\u001b[0;32m----> <a href='vscode-notebook-cell:/Users/samanthapope/MSD/Github/CS6017/class%20notes/dayTwo/introStats.ipynb#Y122sZmlsZQ%3D%3D?line=2'>3</a>\u001b[0m x \u001b[39m=\u001b[39m np\u001b[39m.\u001b[39marange(mu\u001b[39m-\u001b[39m\u001b[39m4\u001b[39m\u001b[39m*\u001b[39msigma,mu\u001b[39m+\u001b[39m\u001b[39m4\u001b[39m\u001b[39m*\u001b[39msigma,\u001b[39m0.001\u001b[39m)\n\u001b[1;32m      <a href='vscode-notebook-cell:/Users/samanthapope/MSD/Github/CS6017/class%20notes/dayTwo/introStats.ipynb#Y122sZmlsZQ%3D%3D?line=3'>4</a>\u001b[0m cdf \u001b[39m=\u001b[39m norm\u001b[39m.\u001b[39mcdf(x,loc\u001b[39m=\u001b[39mmu, scale\u001b[39m=\u001b[39msigma)\n\u001b[1;32m      <a href='vscode-notebook-cell:/Users/samanthapope/MSD/Github/CS6017/class%20notes/dayTwo/introStats.ipynb#Y122sZmlsZQ%3D%3D?line=4'>5</a>\u001b[0m pdf \u001b[39m=\u001b[39m norm\u001b[39m.\u001b[39mpdf(x, loc\u001b[39m=\u001b[39mmu, scale\u001b[39m=\u001b[39msigma)\n",
      "\u001b[0;31mNameError\u001b[0m: name 'np' is not defined"
     ]
    }
   ],
   "source": [
    "mu = 0 # mean\n",
    "sigma = 1 # standard deviation \n",
    "x = np.arange(mu-4*sigma,mu+4*sigma,0.001)\n",
    "cdf = norm.cdf(x,loc=mu, scale=sigma)\n",
    "pdf = norm.pdf(x, loc=mu, scale=sigma)\n",
    "# Here, I could have also written\n",
    "# pdf = 1/(sigma * np.sqrt(2 * np.pi)) * np.exp( - (x - mu)**2 / (2 * sigma**2)) \n",
    "plt.plot(x, cdf, linewidth=2, color='k')\n",
    "plt.plot(x, pdf, linewidth=2, color=\"g\")\n",
    "plt.show()"
   ]
  },
  {
   "cell_type": "markdown",
   "metadata": {
    "slideshow": {
     "slide_type": "-"
    }
   },
   "source": [
    "This means that 68% of the time, this normal random variable will have values between $\\mu-\\sigma$ and $\\mu+\\sigma$. \n",
    "\n",
    "You used to have to look these values up in a table! \n",
    "\n",
    "Let's see what it looks like if we sample 1,000,000 normal random variables and then plot a histogram. "
   ]
  },
  {
   "cell_type": "code",
   "execution_count": 34,
   "metadata": {
    "slideshow": {
     "slide_type": "-"
    }
   },
   "outputs": [
    {
     "name": "stdout",
     "output_type": "stream",
     "text": [
      "[-0.06791339 -1.58926195  0.01224947 -0.06409977 -1.21507344 -0.31551302\n",
      "  1.12680918 -0.04323538  0.97480868 -1.45152887  1.80149617  0.58903824\n",
      " -0.42450504 -1.03831454  0.45817143 -0.971061    0.76845906  0.4880175\n",
      " -0.46790688 -2.43473223  2.18650143  1.85949016 -1.07004824 -1.02884676\n",
      "  0.7560435   0.86060971  0.35746761 -0.37547967 -0.35637118  1.1485713\n",
      "  0.46068185 -0.11015108  2.36252675 -1.34514731  0.56944734 -0.13458057\n",
      "  0.58940436  0.65036363 -0.45574902 -0.60434167  0.60974776  0.15020912\n",
      "  0.8233728  -0.93229367 -0.15193303 -1.7191793   0.70967001  0.23514321\n",
      "  0.9644294  -1.36895909  0.12354747  0.56884736  1.65781239 -0.15330732\n",
      " -0.29568469 -0.95588019  0.07972688 -1.10060857 -0.28668074 -0.14961941\n",
      " -1.77503724 -0.18412321 -1.92875765 -0.81364283  0.813585   -0.25565357\n",
      "  0.68033502 -0.97951869  0.10186677  0.43147531  1.00431788  0.22183512\n",
      "  1.87422736  0.06846963  1.26325883 -0.65943901  0.19906056  0.90394386\n",
      "  0.84269004 -0.51301177  0.95594776  1.75822441  1.37774752 -0.35958031\n",
      " -0.71413871 -0.37818552  0.0845157  -0.73384102 -0.1452515   0.4936194\n",
      "  0.07903897  0.99458875  0.13858587 -0.74964826 -0.87892207 -0.99881467\n",
      "  1.06259455  0.64002129  0.78273176  1.00748838]\n"
     ]
    },
    {
     "data": {
      "image/png": "[encoded data removed]",
      "text/plain": [
       "<Figure size 1000x600 with 1 Axes>"
      ]
     },
     "metadata": {},
     "output_type": "display_data"
    }
   ],
   "source": [
    "norm_vars = norm.rvs(loc=mu,scale=sigma,size=10000)\n",
    "print(norm_vars[:100])\n",
    "\n",
    "plt.hist(norm_vars, bins=100,density=True)\n",
    "plt.plot(x, pdf, linewidth=2, color='k')\n",
    "plt.title(\"A histogram of normal random variables\")\n",
    "plt.show()"
   ]
  },
  {
   "cell_type": "markdown",
   "metadata": {
    "slideshow": {
     "slide_type": "-"
    }
   },
   "source": [
    "The histogram of the sampled variables looks just like the probability distribution function!"
   ]
  },
  {
   "cell_type": "markdown",
   "metadata": {},
   "source": [
    "## The Poisson Distribution\n",
    "The Poisson distribution takes the average rate of an event ocurring as a parameter ($\\lambda$), and measures the probability of seeing $k$ of those events in an interval of time.  For example, if there are an average of 1.5 home runs per game in baseball, the poisson distribution tells you the probability of seeing 0, 1, 2, 3, ... homeruns in a given game.  \n",
    "\n",
    "Note, this is a **discrete** rv, but it comes from a set of continuous parameters.  You can sort of think of it as a way to turn a continuous rate (1.5 homeruns per game) into the probability of a discrete set of outcomes.\n",
    "\n",
    "For the baseball example, $\\lambda = 1.5$ homers per game.  The probability of seeing $k$ homeruns is\n",
    "\n",
    "$P(k)$ = Poission($k, \\lambda$) = $e^{-\\lambda}\\frac{\\lambda^k}{k!}$\n"
   ]
  },
  {
   "cell_type": "code",
   "execution_count": 31,
   "metadata": {
    "scrolled": true
   },
   "outputs": [
    {
     "data": {
      "text/plain": [
       "[<matplotlib.lines.Line2D at 0x2825b5820>]"
      ]
     },
     "execution_count": 31,
     "metadata": {},
     "output_type": "execute_result"
    },
    {
     "data": {
      "image/png": "[encoded data removed]",
      "text/plain": [
       "<Figure size 1000x600 with 1 Axes>"
      ]
     },
     "metadata": {},
     "output_type": "display_data"
    }
   ],
   "source": [
    "from scipy.stats import poisson\n",
    "plt.plot(poisson.pmf(np.arange(10), mu=1.5), 'x') # 1.5 HR's per game\n",
    "plt.plot(poisson.pmf(np.arange(10), mu=3), 'o') # 3 HR's per game\n"
   ]
  },
  {
   "cell_type": "markdown",
   "metadata": {},
   "source": [
    "\n",
    "|        | Discrete           | Continuous  |\n",
    "| ------------- |-------------| -----|\n",
    "| comparing likelihood of outcome     | probability mass function.  p(outcome == possibility) | probability density function $$\\int_a^b pdf(x) = $$ probability of outcome between a and b|\n",
    "| cumulative likelihood: $$p(outcome <= somePossibility)$$| cumulative mass function:  $$\\sum_{outcomes <= sumePossibility} \\text{pmf}(outcome)$$ | cumulative density function: $$\\int_{-\\inf}^{outcome} \\text{pdf}(x)$$ |\n",
    "\n",
    "\n",
    "For both, probability of an outcome between 2 values is cmf/cdf(upper) - cmf/cdf(lower)\n"
   ]
  },
  {
   "cell_type": "markdown",
   "metadata": {
    "collapsed": true,
    "nbpresent": {
     "id": "558af430-f4c0-4be9-b1ef-afce5fccd0fa"
    },
    "slideshow": {
     "slide_type": "slide"
    }
   },
   "source": [
    "# Concept recap\n",
    "- variable types \n",
    "- descriptive statistics in python (min, max, mean, median, std, var, histograms, quantiles) \n",
    "- correlation vs causation\n",
    "- confounding variables \n",
    "- descriptive vs. inferential statistics\n",
    "- discrete and continuous random variables (e.g.: Bernouilli, Binomial, Normal)\n",
    "\n",
    "\n",
    "## Looking ahead:  Hypothesis testing"
   ]
  }
 ],
 "metadata": {
  "anaconda-cloud": {},
  "celltoolbar": "Slideshow",
  "kernelspec": {
   "display_name": "Python 3",
   "language": "python",
   "name": "python3"
  },
  "language_info": {
   "codemirror_mode": {
    "name": "ipython",
    "version": 3
   },
   "file_extension": ".py",
   "mimetype": "text/x-python",
   "name": "python",
   "nbconvert_exporter": "python",
   "pygments_lexer": "ipython3",
   "version": "3.12.3"
  },
  "nbpresent": {
   "slides": {
    "006f01ca-e160-4faa-ad02-2f873362ca99": {
     "id": "006f01ca-e160-4faa-ad02-2f873362ca99",
     "prev": "e60ea09b-1474-49b0-9ea6-2e803b335693",
     "regions": {
      "88222835-28de-4a0f-895e-303024baf060": {
       "attrs": {
        "height": 0.8,
        "width": 0.8,
        "x": 0.1,
        "y": 0.1
       },
       "content": {
        "cell": "e6a51e7a-d63e-4187-8899-bfbf03f8a4b6",
        "part": "whole"
       },
       "id": "88222835-28de-4a0f-895e-303024baf060"
      }
     }
    },
    "2ba6955d-8be2-4ce3-ae98-f3b3695e4832": {
     "id": "2ba6955d-8be2-4ce3-ae98-f3b3695e4832",
     "prev": "35a7a5a6-f0c3-4b68-9579-e5840160a87d",
     "regions": {
      "63b4b5f3-c348-418c-aabf-932d5fdbcc1c": {
       "attrs": {
        "height": 0.8,
        "width": 0.8,
        "x": 0.1,
        "y": 0.1
       },
       "content": {
        "cell": "883076a7-1c6e-492f-b9d2-0b8550b5c31f",
        "part": "whole"
       },
       "id": "63b4b5f3-c348-418c-aabf-932d5fdbcc1c"
      }
     }
    },
    "2d5e1e8f-2e26-415e-8d8d-9229f2dc1244": {
     "id": "2d5e1e8f-2e26-415e-8d8d-9229f2dc1244",
     "prev": "9ba8c8c8-59a7-4776-84cb-084e5b0a2317",
     "regions": {
      "44582fec-116b-475d-9793-ad29580b7fc2": {
       "attrs": {
        "height": 0.8,
        "width": 0.8,
        "x": 0.1,
        "y": 0.1
       },
       "content": {
        "cell": "4992f285-654f-485e-81ef-8a6ae18cad34",
        "part": "whole"
       },
       "id": "44582fec-116b-475d-9793-ad29580b7fc2"
      }
     }
    },
    "35a7a5a6-f0c3-4b68-9579-e5840160a87d": {
     "id": "35a7a5a6-f0c3-4b68-9579-e5840160a87d",
     "prev": "c7291188-b014-4fcb-83bc-f1ea035ee4c9",
     "regions": {
      "cbc80f26-e933-4d90-9dfd-e55a3dc339ba": {
       "attrs": {
        "height": 0.8,
        "width": 0.8,
        "x": 0.1,
        "y": 0.1
       },
       "content": {
        "cell": "558af430-f4c0-4be9-b1ef-afce5fccd0fa",
        "part": "whole"
       },
       "id": "cbc80f26-e933-4d90-9dfd-e55a3dc339ba"
      }
     }
    },
    "3ecd0fe6-e75f-4362-a6e7-e5273e12058e": {
     "id": "3ecd0fe6-e75f-4362-a6e7-e5273e12058e",
     "prev": "2d5e1e8f-2e26-415e-8d8d-9229f2dc1244",
     "regions": {
      "eac20970-b45c-4073-a596-cdb2a974fe23": {
       "attrs": {
        "height": 0.8,
        "width": 0.8,
        "x": 0.1,
        "y": 0.1
       },
       "content": {
        "cell": "de60c848-d1fb-478d-a736-0ebe21762a24",
        "part": "whole"
       },
       "id": "eac20970-b45c-4073-a596-cdb2a974fe23"
      }
     }
    },
    "4e939c85-e2b3-48b3-b2df-389bc0ca7dd0": {
     "id": "4e939c85-e2b3-48b3-b2df-389bc0ca7dd0",
     "prev": "9807c9b8-54cd-4a78-b50d-1a6e9f7ff066",
     "regions": {
      "ddc97209-2f2f-409d-953c-a9a83dec6738": {
       "attrs": {
        "height": 0.8,
        "width": 0.8,
        "x": 0.1,
        "y": 0.1
       },
       "content": {
        "cell": "674ee724-0165-40c5-9296-83db8305fa4c",
        "part": "whole"
       },
       "id": "ddc97209-2f2f-409d-953c-a9a83dec6738"
      }
     }
    },
    "95bf00f9-fc2a-4478-bd48-fb66078e061f": {
     "id": "95bf00f9-fc2a-4478-bd48-fb66078e061f",
     "prev": "b9fa7815-a205-4ea6-9076-1289b96670cf",
     "regions": {
      "dd7aef1b-3f05-47a5-bc5f-274809d2c21d": {
       "attrs": {
        "height": 0.8,
        "width": 0.8,
        "x": 0.1,
        "y": 0.1
       },
       "content": {
        "cell": "61e1167e-99ef-4b5d-b717-07a46077a091",
        "part": "whole"
       },
       "id": "dd7aef1b-3f05-47a5-bc5f-274809d2c21d"
      }
     }
    },
    "966d5c12-49ef-4129-aecb-b183804ecd19": {
     "id": "966d5c12-49ef-4129-aecb-b183804ecd19",
     "prev": "3ecd0fe6-e75f-4362-a6e7-e5273e12058e",
     "regions": {
      "ff0704a2-f662-4a03-9874-5613f4634956": {
       "attrs": {
        "height": 0.8,
        "width": 0.8,
        "x": 0.1,
        "y": 0.1
       },
       "content": {
        "cell": "a6fd92a3-b57e-45c5-b216-f9f475baf8ce",
        "part": "whole"
       },
       "id": "ff0704a2-f662-4a03-9874-5613f4634956"
      }
     }
    },
    "9807c9b8-54cd-4a78-b50d-1a6e9f7ff066": {
     "id": "9807c9b8-54cd-4a78-b50d-1a6e9f7ff066",
     "prev": "966d5c12-49ef-4129-aecb-b183804ecd19",
     "regions": {
      "9e037b47-3fb5-4a60-b69c-ad3b282807a1": {
       "attrs": {
        "height": 0.8,
        "width": 0.8,
        "x": 0.1,
        "y": 0.1
       },
       "content": {
        "cell": "b79fa570-8c08-4820-a035-2a00bfae1a9b",
        "part": "whole"
       },
       "id": "9e037b47-3fb5-4a60-b69c-ad3b282807a1"
      }
     }
    },
    "9ba8c8c8-59a7-4776-84cb-084e5b0a2317": {
     "id": "9ba8c8c8-59a7-4776-84cb-084e5b0a2317",
     "prev": "9e2b6ffd-bec2-4027-93e8-64b63e770378",
     "regions": {
      "45bb0df9-937a-48a6-882b-346a1253250c": {
       "attrs": {
        "height": 0.8,
        "width": 0.8,
        "x": 0.1,
        "y": 0.1
       },
       "content": {
        "cell": "be5bedf1-b9ed-4caa-bc3e-6c390df97946",
        "part": "whole"
       },
       "id": "45bb0df9-937a-48a6-882b-346a1253250c"
      }
     }
    },
    "9e2b6ffd-bec2-4027-93e8-64b63e770378": {
     "id": "9e2b6ffd-bec2-4027-93e8-64b63e770378",
     "prev": "e9d31a55-0862-44ec-bd48-d74167655985",
     "regions": {
      "7a7c6996-8117-42ce-8093-318b84bd052b": {
       "attrs": {
        "height": 0.8,
        "width": 0.8,
        "x": 0.1,
        "y": 0.1
       },
       "content": {
        "cell": "95b34ac1-b36d-492d-84f9-adafb2d57ace",
        "part": "whole"
       },
       "id": "7a7c6996-8117-42ce-8093-318b84bd052b"
      }
     }
    },
    "ae354c9e-1384-4f31-8e03-5c96f3988bf4": {
     "id": "ae354c9e-1384-4f31-8e03-5c96f3988bf4",
     "prev": null,
     "regions": {
      "9e57ef10-c941-41de-93da-812357c7ec21": {
       "attrs": {
        "height": 0.8,
        "width": 0.8,
        "x": 0.1,
        "y": 0.1
       },
       "content": {
        "cell": "dac6427e-b8df-46f9-bfd3-b24427a73993",
        "part": "whole"
       },
       "id": "9e57ef10-c941-41de-93da-812357c7ec21"
      }
     }
    },
    "b9fa7815-a205-4ea6-9076-1289b96670cf": {
     "id": "b9fa7815-a205-4ea6-9076-1289b96670cf",
     "prev": "ae354c9e-1384-4f31-8e03-5c96f3988bf4",
     "regions": {
      "cc19ec36-3caa-4666-86e7-2bd1d9cb03b8": {
       "attrs": {
        "height": 0.8,
        "width": 0.8,
        "x": 0.1,
        "y": 0.1
       },
       "content": {
        "cell": "c7392535-4666-41a5-a68a-7306dccd6cd8",
        "part": "whole"
       },
       "id": "cc19ec36-3caa-4666-86e7-2bd1d9cb03b8"
      }
     }
    },
    "c7291188-b014-4fcb-83bc-f1ea035ee4c9": {
     "id": "c7291188-b014-4fcb-83bc-f1ea035ee4c9",
     "prev": "006f01ca-e160-4faa-ad02-2f873362ca99",
     "regions": {
      "3fa8900b-1ee2-4625-8e0b-a8a52d95390d": {
       "attrs": {
        "height": 0.8,
        "width": 0.8,
        "x": 0.1,
        "y": 0.1
       },
       "content": {
        "cell": "a912604c-786a-448e-a908-397f28b46a13",
        "part": "whole"
       },
       "id": "3fa8900b-1ee2-4625-8e0b-a8a52d95390d"
      }
     }
    },
    "e60ea09b-1474-49b0-9ea6-2e803b335693": {
     "id": "e60ea09b-1474-49b0-9ea6-2e803b335693",
     "prev": "4e939c85-e2b3-48b3-b2df-389bc0ca7dd0",
     "regions": {
      "3df2ec23-ba8a-4b76-b6af-2a4aa219da46": {
       "attrs": {
        "height": 0.8,
        "width": 0.8,
        "x": 0.1,
        "y": 0.1
       },
       "content": {
        "cell": "06d04c6d-90a4-441d-9d6e-4f719490e12e",
        "part": "whole"
       },
       "id": "3df2ec23-ba8a-4b76-b6af-2a4aa219da46"
      }
     }
    },
    "e9d31a55-0862-44ec-bd48-d74167655985": {
     "id": "e9d31a55-0862-44ec-bd48-d74167655985",
     "prev": "95bf00f9-fc2a-4478-bd48-fb66078e061f",
     "regions": {
      "cc6bd695-e238-4250-8822-ffea3f82f544": {
       "attrs": {
        "height": 0.8,
        "width": 0.8,
        "x": 0.1,
        "y": 0.1
       },
       "content": {
        "cell": "86c3f014-9535-48f0-95a2-df74d16eaa69",
        "part": "whole"
       },
       "id": "cc6bd695-e238-4250-8822-ffea3f82f544"
      }
     }
    }
   },
   "themes": {}
  }
 },
 "nbformat": 4,
 "nbformat_minor": 1
}
