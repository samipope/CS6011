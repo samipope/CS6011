{
 "cells": [
  {
   "cell_type": "code",
   "execution_count": null,
   "metadata": {},
   "outputs": [],
   "source": []
  },
  {
   "cell_type": "markdown",
   "metadata": {},
   "source": [
    "# 017: data analysis and visualization\n",
    "# How to make sense of data and communicate it\n",
    "\n",
    "# Have to use a different version of python each project\n",
    "# python intelliJ??\n",
    "\n",
    "# Python:\n",
    "# \tIndents to have blocks, no curly braces\n",
    "# \tDynamically typed\n",
    "\n",
    "# for x in range(10)\n",
    "# \tprint(x)\n",
    "\n",
    "# Before you submit → do runAll to make sure it works\n",
    "\n",
    "# Display is better than print for complex types\n",
    "\n",
    "\n",
    "# PANDAS.IPYNB\n",
    "\n",
    "# 1. Tuples --> like a struct data type\n",
    "#  immutable which means you CANNOT change it. it is different than lists\n",
    "#  with a tuple, you can go into the array it is storing and change the values in that array as long as the array you are pointing do doesn't change\n",
    "\n",
    "# Aside: Functions with Multiple return values\n",
    "#     you are retuning a tuple, but looks like you are returning a lot of stuff\n",
    "\n",
    "# def multiply(a, b, c):\n",
    "#     return (a*b), (a*c), (b*c), (a*b*c)"
   ]
  },
  {
   "cell_type": "code",
   "execution_count": null,
   "metadata": {},
   "outputs": [],
   "source": []
  }
 ],
 "metadata": {
  "kernelspec": {
   "display_name": ".venv",
   "language": "python",
   "name": "python3"
  },
  "language_info": {
   "codemirror_mode": {
    "name": "ipython",
    "version": 3
   },
   "file_extension": ".py",
   "mimetype": "text/x-python",
   "name": "python",
   "nbconvert_exporter": "python",
   "pygments_lexer": "ipython3",
   "version": "3.12.3"
  }
 },
 "nbformat": 4,
 "nbformat_minor": 2
}
