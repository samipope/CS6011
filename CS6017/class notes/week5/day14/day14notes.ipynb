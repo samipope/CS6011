{
 "cells": [
  {
   "cell_type": "markdown",
   "metadata": {},
   "source": [
    "kernel method\n",
    "\n",
    "making a y=mx+b line between the two groups (yes and no)\n",
    "\n",
    "if the line is thick, we are underfitting. if it is thin we are overfitting\n",
    "\n",
    "this is like using kernel mode to create a model that helps us to estimate what is going on https://en.wikipedia.org/wiki/Kernel_method\n",
    "\n",
    "\n",
    "Using RBF "
   ]
  }
 ],
 "metadata": {
  "language_info": {
   "name": "python"
  }
 },
 "nbformat": 4,
 "nbformat_minor": 2
}
