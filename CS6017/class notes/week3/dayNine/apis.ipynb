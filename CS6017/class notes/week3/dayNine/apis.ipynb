{
 "cells": [
  {
   "cell_type": "markdown",
   "metadata": {},
   "source": [
    "# Introduction to Data Science – Lecture 12 - APIs\n",
    "Based on notes from *COMP 5360 / MATH 4100, University of Utah, http://datasciencecourse.net/*\n",
    "\n",
    "In this lecture we will explore how we can extract data from web-APIs. The first part of this tutorial is based on [this blog](https://www.dataquest.io/blog/python-api-tutorial/).\n",
    "\n",
    "API stands for **A**pplication **P**rogramming **I**nterface. It is supposed to be a **well defined interface** for consuming data (in contrast to web-scraping), or, more generally, for the **interaction with a remote program** on a server. APIs aren't only generated so that you can read data; they're often designed so that you could write custom software to interact with the API. You could, for example, write your own twitter client! \n",
    "\n",
    "APIs are usually well documented, as the organization that provides APIs wants you to use them. \n",
    "\n",
    "Here are a couple of examples of sites that have documented APIs:\n",
    "\n",
    " * [StackExchange](https://api.stackexchange.com/docs)  \n",
    " * [Facebook](https://developers.facebook.com/docs/graph-api)\n",
    " * [KEGG](http://www.genome.jp/kegg/rest/keggapi.html) \n",
    " * [Google Maps](https://developers.google.com/maps/) \n",
    " * and many many more. \n",
    " \n",
    "Most APIs require some form of authentication and have rules on what you're allowed to do and what not. Follow those rules, or you will be blocked faster than you can say `GET`. \n",
    " \n",
    "An API works a lot like working with a website, but instead of a human in front of the screen, it's computers talking to each other. \n",
    "\n",
    "We'll be using the dominant form of APIs, REST (REpresentational State Transfer), which are now the dominant way of exposing and API on the web. REST APIs use an [URI](https://en.wikipedia.org/wiki/Uniform_Resource_Identifier) (a Uniform Resource Identifier; URLs are one specific form of URIs) to specify what you want to do with and API.\n",
    "\n",
    "All API methods in REST are relative to a base URL. E.g., for twitter this used to be\n",
    "```\n",
    "https://api.twitter.com/1.1/\n",
    "```\n",
    "\n",
    "A query would have looked like this: \n",
    "\n",
    "```\n",
    "https://api.twitter.com/1.1/search/tweets.json?q=%40twitterapi\n",
    "```\n",
    "\n",
    "REST APIs can return data in different forms, the most common ones are JSON and XML, and of those two, JSON is now dominant. \n",
    "\n",
    "JSON stands for JavaScript Object Notation, and is a pretty convenient format, as we'll see. \n",
    " \n",
    "\n",
    "Let's start with a very simple example, retrieving the current position of the ISS. We will be using the [requests](https://requests.readthedocs.io/en/master/) library, which will handle our communication with the server."
   ]
  },
  {
   "cell_type": "code",
   "execution_count": 59,
   "metadata": {},
   "outputs": [
    {
     "data": {
      "text/plain": [
       "<Response [200]>"
      ]
     },
     "execution_count": 59,
     "metadata": {},
     "output_type": "execute_result"
    }
   ],
   "source": [
    "import requests \n",
    "# Make a get request to get the latest position of the international space station from the opennotify api.\n",
    "response = requests.get(\"http://api.open-notify.org/iss-now.json\")\n",
    "\n",
    "response"
   ]
  },
  {
   "cell_type": "markdown",
   "metadata": {},
   "source": [
    "That looks good, we've received a response and it has status 200. What does the 200 mean? It's a status code - you've probably seen the \"Error 404\" on the internet. \n",
    "\n",
    "Here are a couple of codes:\n",
    "\n",
    " * **200** – everything went okay, and the result has been returned (if any)\n",
    " * **301** – the server is redirecting you to a different endpoint. This can happen when a company switches domain names, or an endpoint name is changed.\n",
    " * **401** – the server thinks you’re not authenticated. This happens when you don’t send the right credentials to access an API (we’ll talk about authentication later).\n",
    " * **400** – the server thinks you made a bad request. This can happen when you don’t send along the right data, among other things.\n",
    " * **403** – the resource you’re trying to access is forbidden – you don’t have the right permissions to see it.\n",
    " * **404** – the resource you tried to access wasn’t found on the server.\n",
    "\n",
    "Let's try to get a response with a wrong URL:"
   ]
  },
  {
   "cell_type": "code",
   "execution_count": 60,
   "metadata": {},
   "outputs": [
    {
     "data": {
      "text/plain": [
       "<Response [404]>"
      ]
     },
     "execution_count": 60,
     "metadata": {},
     "output_type": "execute_result"
    }
   ],
   "source": [
    "response_failed = requests.get(\"http://api.open-notify.org/iss\")\n",
    "\n",
    "response_failed"
   ]
  },
  {
   "cell_type": "markdown",
   "metadata": {},
   "source": [
    "We used the get methods to put in a GET request. There are four different types of requests: \n",
    "\n",
    "![Request types](requests.png)\n",
    "[Source](https://en.wikipedia.org/wiki/Representational_state_transfer)"
   ]
  },
  {
   "cell_type": "markdown",
   "metadata": {
    "collapsed": true
   },
   "source": [
    "Let's look at the payload of our previous, successful response:"
   ]
  },
  {
   "cell_type": "code",
   "execution_count": 61,
   "metadata": {},
   "outputs": [
    {
     "data": {
      "text/plain": [
       "b'{\"iss_position\": {\"latitude\": \"50.6956\", \"longitude\": \"4.8831\"}, \"message\": \"success\", \"timestamp\": 1717002934}'"
      ]
     },
     "execution_count": 61,
     "metadata": {},
     "output_type": "execute_result"
    }
   ],
   "source": [
    "response.content"
   ]
  },
  {
   "cell_type": "markdown",
   "metadata": {},
   "source": [
    "We can already see that this is JSON (though it is stored a `bytes` object), but we can check formally:"
   ]
  },
  {
   "cell_type": "code",
   "execution_count": 4,
   "metadata": {},
   "outputs": [
    {
     "data": {
      "text/plain": [
       "'application/json'"
      ]
     },
     "execution_count": 4,
     "metadata": {},
     "output_type": "execute_result"
    }
   ],
   "source": [
    "response.headers['content-type']"
   ]
  },
  {
   "cell_type": "markdown",
   "metadata": {},
   "source": [
    "We can decode this byte object, then the JSON will be readable. "
   ]
  },
  {
   "cell_type": "code",
   "execution_count": 5,
   "metadata": {},
   "outputs": [
    {
     "name": "stdout",
     "output_type": "stream",
     "text": [
      "{\"iss_position\": {\"latitude\": \"10.6855\", \"longitude\": \"-62.8056\"}, \"timestamp\": 1622223327, \"message\": \"success\"}\n"
     ]
    }
   ],
   "source": [
    "response_j = response.content.decode(\"utf-8\")\n",
    "print(response_j)"
   ]
  },
  {
   "cell_type": "markdown",
   "metadata": {},
   "source": [
    "Let's take a look at the JSON here:\n",
    "\n",
    "```JSON\n",
    "{\n",
    "  \"iss_position\": {\n",
    "    \"latitude\": -30.005751854107206, \n",
    "    \"longitude\": -104.20085371352678\n",
    "  }, \n",
    "  \"message\": \"success\", \n",
    "  \"timestamp\": 1475240215\n",
    "}\n",
    "```\n",
    "\n",
    "This looks a lot like a dictionary! We have key-value pairs. \n",
    "\n",
    "We can use the [json library](https://docs.python.org/3/library/json.html) to convert JSON into objects:"
   ]
  },
  {
   "cell_type": "code",
   "execution_count": 36,
   "metadata": {},
   "outputs": [
    {
     "name": "stdout",
     "output_type": "stream",
     "text": [
      "<class 'dict'>\n",
      "{'iss_position': {'latitude': '10.6855', 'longitude': '-62.8056'}, 'timestamp': 1622223327, 'message': 'success'}\n"
     ]
    },
    {
     "data": {
      "text/plain": [
       "{'latitude': '10.6855', 'longitude': '-62.8056'}"
      ]
     },
     "execution_count": 36,
     "metadata": {},
     "output_type": "execute_result"
    }
   ],
   "source": [
    "import json\n",
    "response_d = json.loads(response_j)\n",
    "print(type(response_d))\n",
    "print(response_d)\n",
    "response_d[\"iss_position\"]"
   ]
  },
  {
   "cell_type": "markdown",
   "metadata": {},
   "source": [
    "Or, not surprisingly, pandas can also load a jsong object:"
   ]
  },
  {
   "cell_type": "code",
   "execution_count": 37,
   "metadata": {},
   "outputs": [
    {
     "data": {
      "text/html": [
       "<div>\n",
       "<style scoped>\n",
       "    .dataframe tbody tr th:only-of-type {\n",
       "        vertical-align: middle;\n",
       "    }\n",
       "\n",
       "    .dataframe tbody tr th {\n",
       "        vertical-align: top;\n",
       "    }\n",
       "\n",
       "    .dataframe thead th {\n",
       "        text-align: right;\n",
       "    }\n",
       "</style>\n",
       "<table border=\"1\" class=\"dataframe\">\n",
       "  <thead>\n",
       "    <tr style=\"text-align: right;\">\n",
       "      <th></th>\n",
       "      <th>iss_position</th>\n",
       "      <th>timestamp</th>\n",
       "      <th>message</th>\n",
       "    </tr>\n",
       "  </thead>\n",
       "  <tbody>\n",
       "    <tr>\n",
       "      <th>latitude</th>\n",
       "      <td>10.6855</td>\n",
       "      <td>2021-05-28 17:35:27</td>\n",
       "      <td>success</td>\n",
       "    </tr>\n",
       "    <tr>\n",
       "      <th>longitude</th>\n",
       "      <td>-62.8056</td>\n",
       "      <td>2021-05-28 17:35:27</td>\n",
       "      <td>success</td>\n",
       "    </tr>\n",
       "  </tbody>\n",
       "</table>\n",
       "</div>"
      ],
      "text/plain": [
       "           iss_position           timestamp  message\n",
       "latitude        10.6855 2021-05-28 17:35:27  success\n",
       "longitude      -62.8056 2021-05-28 17:35:27  success"
      ]
     },
     "execution_count": 37,
     "metadata": {},
     "output_type": "execute_result"
    }
   ],
   "source": [
    "import pandas as pd \n",
    "\n",
    "df = pd.read_json(response_j)\n",
    "df"
   ]
  },
  {
   "cell_type": "markdown",
   "metadata": {},
   "source": [
    "This isn't quite what we want - we probably want one row per timestamp and longitude and latitude as columns:"
   ]
  },
  {
   "cell_type": "code",
   "execution_count": 8,
   "metadata": {},
   "outputs": [
    {
     "data": {
      "text/plain": [
       "{'timestamp': 1622223327,\n",
       " 'message': 'success',\n",
       " 'latitude': '10.6855',\n",
       " 'longitude': '-62.8056'}"
      ]
     },
     "execution_count": 8,
     "metadata": {},
     "output_type": "execute_result"
    }
   ],
   "source": [
    "def flatten(response_d):\n",
    "    response_d[\"latitude\"] = response_d[\"iss_position\"][\"latitude\"]\n",
    "    response_d[\"longitude\"] = response_d[\"iss_position\"][\"longitude\"]\n",
    "    del(response_d[\"iss_position\"])\n",
    "    return response_d\n",
    "flatten(response_d)"
   ]
  },
  {
   "cell_type": "markdown",
   "metadata": {},
   "source": [
    "That looks better. Let's get a couple of positions of the ISS over time and save it as an array:"
   ]
  },
  {
   "cell_type": "code",
   "execution_count": 38,
   "metadata": {},
   "outputs": [
    {
     "name": "stdout",
     "output_type": "stream",
     "text": [
      "{'message': 'success', 'timestamp': 1622652963, 'latitude': '30.4636', 'longitude': '-63.2818'}\n",
      "{'message': 'success', 'timestamp': 1622652966, 'latitude': '30.5985', 'longitude': '-63.1318'}\n",
      "{'message': 'success', 'timestamp': 1622652969, 'latitude': '30.7331', 'longitude': '-62.9814'}\n",
      "{'message': 'success', 'timestamp': 1622652972, 'latitude': '30.8675', 'longitude': '-62.8305'}\n",
      "{'message': 'success', 'timestamp': 1622652975, 'latitude': '31.0240', 'longitude': '-62.6539'}\n",
      "{'message': 'success', 'timestamp': 1622652978, 'latitude': '31.1580', 'longitude': '-62.5019'}\n",
      "{'message': 'success', 'timestamp': 1622652982, 'latitude': '31.3362', 'longitude': '-62.2987'}\n",
      "{'message': 'success', 'timestamp': 1622652985, 'latitude': '31.4696', 'longitude': '-62.1458'}\n",
      "{'message': 'success', 'timestamp': 1622652988, 'latitude': '31.6029', 'longitude': '-61.9923'}\n",
      "{'message': 'success', 'timestamp': 1622652991, 'latitude': '31.7359', 'longitude': '-61.8383'}\n"
     ]
    },
    {
     "data": {
      "text/plain": [
       "10"
      ]
     },
     "execution_count": 38,
     "metadata": {},
     "output_type": "execute_result"
    }
   ],
   "source": [
    "import time\n",
    "\n",
    "def pull_position():\n",
    "    \"\"\"Retreives the position of the ISS and returns it as a flat dictionary\"\"\"\n",
    "    response = requests.get(\"http://api.open-notify.org/iss-now.json\")\n",
    "    response_j = response.content.decode(\"utf-8\")\n",
    "    response_d = json.loads(response_j)\n",
    "    flat_response = flatten(response_d)\n",
    "    return flat_response    \n",
    "\n",
    "iss_position = []\n",
    "    \n",
    "# calls pull_position 10 times with 3 seconds break\n",
    "for i in range(10):\n",
    "    flat_response = pull_position()\n",
    "    iss_position.append(flat_response)\n",
    "    print(flat_response)\n",
    "    time.sleep(3)\n",
    "    \n",
    "len(iss_position)"
   ]
  },
  {
   "cell_type": "markdown",
   "metadata": {},
   "source": [
    "Now we can convert this into a nice dataframe:"
   ]
  },
  {
   "cell_type": "code",
   "execution_count": 39,
   "metadata": {},
   "outputs": [],
   "source": [
    "iss_position_df = pd.DataFrame(iss_position)\n",
    "iss_position_df['timestamp']  = pd.to_datetime(iss_position_df['timestamp'], unit=\"s\")\n",
    "\n",
    "iss_position_df = iss_position_df.set_index(pd.DatetimeIndex(iss_position_df['timestamp']))\n",
    "iss_position_df[\"latitude\"] = iss_position_df[\"latitude\"].map(float)\n",
    "iss_position_df[\"longitude\"] = iss_position_df[\"longitude\"].map(float)"
   ]
  },
  {
   "cell_type": "markdown",
   "metadata": {},
   "source": [
    "Let's see how the ISS moves"
   ]
  },
  {
   "cell_type": "code",
   "execution_count": 40,
   "metadata": {},
   "outputs": [
    {
     "data": {
      "text/plain": [
       "<AxesSubplot:xlabel='latitude', ylabel='longitude'>"
      ]
     },
     "execution_count": 40,
     "metadata": {},
     "output_type": "execute_result"
    },
    {
     "data": {
      "image/png": "[encoded data removed]",
      "image/svg+xml": [
       "<?xml version=\"1.0\" encoding=\"utf-8\" standalone=\"no\"?>\n",
       "<!DOCTYPE svg PUBLIC \"-//W3C//DTD SVG 1.1//EN\"\n",
       "  \"http://www.w3.org/Graphics/SVG/1.1/DTD/svg11.dtd\">\n",
       "<svg height=\"264.131875pt\" version=\"1.1\" viewBox=\"0 0 402.459062 264.131875\" width=\"402.459062pt\" xmlns=\"http://www.w3.org/2000/svg\" xmlns:xlink=\"http://www.w3.org/1999/xlink\">\n",
       " <metadata>\n",
       "  <rdf:RDF xmlns:cc=\"http://creativecommons.org/ns#\" xmlns:dc=\"http://purl.org/dc/elements/1.1/\" xmlns:rdf=\"http://www.w3.org/1999/02/22-rdf-syntax-ns#\">\n",
       "   <cc:Work>\n",
       "    <dc:type rdf:resource=\"http://purl.org/dc/dcmitype/StillImage\"/>\n",
       "    <dc:date>2021-06-02T10:56:45.578906</dc:date>\n",
       "    <dc:format>image/svg+xml</dc:format>\n",
       "    <dc:creator>\n",
       "     <cc:Agent>\n",
       "      <dc:title>Matplotlib v3.4.1, https://matplotlib.org/</dc:title>\n",
       "     </cc:Agent>\n",
       "    </dc:creator>\n",
       "   </cc:Work>\n",
       "  </rdf:RDF>\n",
       " </metadata>\n",
       " <defs>\n",
       "  <style type=\"text/css\">*{stroke-linecap:butt;stroke-linejoin:round;}</style>\n",
       " </defs>\n",
       " <g id=\"figure_1\">\n",
       "  <g id=\"patch_1\">\n",
       "   <path d=\"M 0 264.131875 \n",
       "L 402.459062 264.131875 \n",
       "L 402.459062 0 \n",
       "L 0 0 \n",
       "z\n",
       "\" style=\"fill:#ffffff;\"/>\n",
       "  </g>\n",
       "  <g id=\"axes_1\">\n",
       "   <g id=\"patch_2\">\n",
       "    <path d=\"M 60.459063 224.64 \n",
       "L 395.259063 224.64 \n",
       "L 395.259063 7.2 \n",
       "L 60.459063 7.2 \n",
       "z\n",
       "\" style=\"fill:#e5e5e5;\"/>\n",
       "   </g>\n",
       "   <g id=\"matplotlib.axis_1\">\n",
       "    <g id=\"xtick_1\">\n",
       "     <g id=\"line2d_1\">\n",
       "      <path clip-path=\"url(#pdf7bf70d6d)\" d=\"M 60.462651 224.64 \n",
       "L 60.462651 7.2 \n",
       "\" style=\"fill:none;stroke:#ffffff;stroke-linecap:square;stroke-width:0.8;\"/>\n",
       "     </g>\n",
       "     <g id=\"line2d_2\">\n",
       "      <defs>\n",
       "       <path d=\"M 0 0 \n",
       "L 0 3.5 \n",
       "\" id=\"m7fcc6e2712\" style=\"stroke:#555555;stroke-width:0.8;\"/>\n",
       "      </defs>\n",
       "      <g>\n",
       "       <use style=\"fill:#555555;stroke:#555555;stroke-width:0.8;\" x=\"60.462651\" xlink:href=\"#m7fcc6e2712\" y=\"224.64\"/>\n",
       "      </g>\n",
       "     </g>\n",
       "     <g id=\"text_1\">\n",
       "      <!-- 30.4 -->\n",
       "      <g style=\"fill:#555555;\" transform=\"translate(49.329838 239.238437)scale(0.1 -0.1)\">\n",
       "       <defs>\n",
       "        <path d=\"M 2597 2516 \n",
       "Q 3050 2419 3304 2112 \n",
       "Q 3559 1806 3559 1356 \n",
       "Q 3559 666 3084 287 \n",
       "Q 2609 -91 1734 -91 \n",
       "Q 1441 -91 1130 -33 \n",
       "Q 819 25 488 141 \n",
       "L 488 750 \n",
       "Q 750 597 1062 519 \n",
       "Q 1375 441 1716 441 \n",
       "Q 2309 441 2620 675 \n",
       "Q 2931 909 2931 1356 \n",
       "Q 2931 1769 2642 2001 \n",
       "Q 2353 2234 1838 2234 \n",
       "L 1294 2234 \n",
       "L 1294 2753 \n",
       "L 1863 2753 \n",
       "Q 2328 2753 2575 2939 \n",
       "Q 2822 3125 2822 3475 \n",
       "Q 2822 3834 2567 4026 \n",
       "Q 2313 4219 1838 4219 \n",
       "Q 1578 4219 1281 4162 \n",
       "Q 984 4106 628 3988 \n",
       "L 628 4550 \n",
       "Q 988 4650 1302 4700 \n",
       "Q 1616 4750 1894 4750 \n",
       "Q 2613 4750 3031 4423 \n",
       "Q 3450 4097 3450 3541 \n",
       "Q 3450 3153 3228 2886 \n",
       "Q 3006 2619 2597 2516 \n",
       "z\n",
       "\" id=\"DejaVuSans-33\" transform=\"scale(0.015625)\"/>\n",
       "        <path d=\"M 2034 4250 \n",
       "Q 1547 4250 1301 3770 \n",
       "Q 1056 3291 1056 2328 \n",
       "Q 1056 1369 1301 889 \n",
       "Q 1547 409 2034 409 \n",
       "Q 2525 409 2770 889 \n",
       "Q 3016 1369 3016 2328 \n",
       "Q 3016 3291 2770 3770 \n",
       "Q 2525 4250 2034 4250 \n",
       "z\n",
       "M 2034 4750 \n",
       "Q 2819 4750 3233 4129 \n",
       "Q 3647 3509 3647 2328 \n",
       "Q 3647 1150 3233 529 \n",
       "Q 2819 -91 2034 -91 \n",
       "Q 1250 -91 836 529 \n",
       "Q 422 1150 422 2328 \n",
       "Q 422 3509 836 4129 \n",
       "Q 1250 4750 2034 4750 \n",
       "z\n",
       "\" id=\"DejaVuSans-30\" transform=\"scale(0.015625)\"/>\n",
       "        <path d=\"M 684 794 \n",
       "L 1344 794 \n",
       "L 1344 0 \n",
       "L 684 0 \n",
       "L 684 794 \n",
       "z\n",
       "\" id=\"DejaVuSans-2e\" transform=\"scale(0.015625)\"/>\n",
       "        <path d=\"M 2419 4116 \n",
       "L 825 1625 \n",
       "L 2419 1625 \n",
       "L 2419 4116 \n",
       "z\n",
       "M 2253 4666 \n",
       "L 3047 4666 \n",
       "L 3047 1625 \n",
       "L 3713 1625 \n",
       "L 3713 1100 \n",
       "L 3047 1100 \n",
       "L 3047 0 \n",
       "L 2419 0 \n",
       "L 2419 1100 \n",
       "L 313 1100 \n",
       "L 313 1709 \n",
       "L 2253 4666 \n",
       "z\n",
       "\" id=\"DejaVuSans-34\" transform=\"scale(0.015625)\"/>\n",
       "       </defs>\n",
       "       <use xlink:href=\"#DejaVuSans-33\"/>\n",
       "       <use x=\"63.623047\" xlink:href=\"#DejaVuSans-30\"/>\n",
       "       <use x=\"127.246094\" xlink:href=\"#DejaVuSans-2e\"/>\n",
       "       <use x=\"159.033203\" xlink:href=\"#DejaVuSans-34\"/>\n",
       "      </g>\n",
       "     </g>\n",
       "    </g>\n",
       "    <g id=\"xtick_2\">\n",
       "     <g id=\"line2d_3\">\n",
       "      <path clip-path=\"url(#pdf7bf70d6d)\" d=\"M 108.307284 224.64 \n",
       "L 108.307284 7.2 \n",
       "\" style=\"fill:none;stroke:#ffffff;stroke-linecap:square;stroke-width:0.8;\"/>\n",
       "     </g>\n",
       "     <g id=\"line2d_4\">\n",
       "      <g>\n",
       "       <use style=\"fill:#555555;stroke:#555555;stroke-width:0.8;\" x=\"108.307284\" xlink:href=\"#m7fcc6e2712\" y=\"224.64\"/>\n",
       "      </g>\n",
       "     </g>\n",
       "     <g id=\"text_2\">\n",
       "      <!-- 30.6 -->\n",
       "      <g style=\"fill:#555555;\" transform=\"translate(97.174472 239.238437)scale(0.1 -0.1)\">\n",
       "       <defs>\n",
       "        <path d=\"M 2113 2584 \n",
       "Q 1688 2584 1439 2293 \n",
       "Q 1191 2003 1191 1497 \n",
       "Q 1191 994 1439 701 \n",
       "Q 1688 409 2113 409 \n",
       "Q 2538 409 2786 701 \n",
       "Q 3034 994 3034 1497 \n",
       "Q 3034 2003 2786 2293 \n",
       "Q 2538 2584 2113 2584 \n",
       "z\n",
       "M 3366 4563 \n",
       "L 3366 3988 \n",
       "Q 3128 4100 2886 4159 \n",
       "Q 2644 4219 2406 4219 \n",
       "Q 1781 4219 1451 3797 \n",
       "Q 1122 3375 1075 2522 \n",
       "Q 1259 2794 1537 2939 \n",
       "Q 1816 3084 2150 3084 \n",
       "Q 2853 3084 3261 2657 \n",
       "Q 3669 2231 3669 1497 \n",
       "Q 3669 778 3244 343 \n",
       "Q 2819 -91 2113 -91 \n",
       "Q 1303 -91 875 529 \n",
       "Q 447 1150 447 2328 \n",
       "Q 447 3434 972 4092 \n",
       "Q 1497 4750 2381 4750 \n",
       "Q 2619 4750 2861 4703 \n",
       "Q 3103 4656 3366 4563 \n",
       "z\n",
       "\" id=\"DejaVuSans-36\" transform=\"scale(0.015625)\"/>\n",
       "       </defs>\n",
       "       <use xlink:href=\"#DejaVuSans-33\"/>\n",
       "       <use x=\"63.623047\" xlink:href=\"#DejaVuSans-30\"/>\n",
       "       <use x=\"127.246094\" xlink:href=\"#DejaVuSans-2e\"/>\n",
       "       <use x=\"159.033203\" xlink:href=\"#DejaVuSans-36\"/>\n",
       "      </g>\n",
       "     </g>\n",
       "    </g>\n",
       "    <g id=\"xtick_3\">\n",
       "     <g id=\"line2d_5\">\n",
       "      <path clip-path=\"url(#pdf7bf70d6d)\" d=\"M 156.151918 224.64 \n",
       "L 156.151918 7.2 \n",
       "\" style=\"fill:none;stroke:#ffffff;stroke-linecap:square;stroke-width:0.8;\"/>\n",
       "     </g>\n",
       "     <g id=\"line2d_6\">\n",
       "      <g>\n",
       "       <use style=\"fill:#555555;stroke:#555555;stroke-width:0.8;\" x=\"156.151918\" xlink:href=\"#m7fcc6e2712\" y=\"224.64\"/>\n",
       "      </g>\n",
       "     </g>\n",
       "     <g id=\"text_3\">\n",
       "      <!-- 30.8 -->\n",
       "      <g style=\"fill:#555555;\" transform=\"translate(145.019105 239.238437)scale(0.1 -0.1)\">\n",
       "       <defs>\n",
       "        <path d=\"M 2034 2216 \n",
       "Q 1584 2216 1326 1975 \n",
       "Q 1069 1734 1069 1313 \n",
       "Q 1069 891 1326 650 \n",
       "Q 1584 409 2034 409 \n",
       "Q 2484 409 2743 651 \n",
       "Q 3003 894 3003 1313 \n",
       "Q 3003 1734 2745 1975 \n",
       "Q 2488 2216 2034 2216 \n",
       "z\n",
       "M 1403 2484 \n",
       "Q 997 2584 770 2862 \n",
       "Q 544 3141 544 3541 \n",
       "Q 544 4100 942 4425 \n",
       "Q 1341 4750 2034 4750 \n",
       "Q 2731 4750 3128 4425 \n",
       "Q 3525 4100 3525 3541 \n",
       "Q 3525 3141 3298 2862 \n",
       "Q 3072 2584 2669 2484 \n",
       "Q 3125 2378 3379 2068 \n",
       "Q 3634 1759 3634 1313 \n",
       "Q 3634 634 3220 271 \n",
       "Q 2806 -91 2034 -91 \n",
       "Q 1263 -91 848 271 \n",
       "Q 434 634 434 1313 \n",
       "Q 434 1759 690 2068 \n",
       "Q 947 2378 1403 2484 \n",
       "z\n",
       "M 1172 3481 \n",
       "Q 1172 3119 1398 2916 \n",
       "Q 1625 2713 2034 2713 \n",
       "Q 2441 2713 2670 2916 \n",
       "Q 2900 3119 2900 3481 \n",
       "Q 2900 3844 2670 4047 \n",
       "Q 2441 4250 2034 4250 \n",
       "Q 1625 4250 1398 4047 \n",
       "Q 1172 3844 1172 3481 \n",
       "z\n",
       "\" id=\"DejaVuSans-38\" transform=\"scale(0.015625)\"/>\n",
       "       </defs>\n",
       "       <use xlink:href=\"#DejaVuSans-33\"/>\n",
       "       <use x=\"63.623047\" xlink:href=\"#DejaVuSans-30\"/>\n",
       "       <use x=\"127.246094\" xlink:href=\"#DejaVuSans-2e\"/>\n",
       "       <use x=\"159.033203\" xlink:href=\"#DejaVuSans-38\"/>\n",
       "      </g>\n",
       "     </g>\n",
       "    </g>\n",
       "    <g id=\"xtick_4\">\n",
       "     <g id=\"line2d_7\">\n",
       "      <path clip-path=\"url(#pdf7bf70d6d)\" d=\"M 203.996552 224.64 \n",
       "L 203.996552 7.2 \n",
       "\" style=\"fill:none;stroke:#ffffff;stroke-linecap:square;stroke-width:0.8;\"/>\n",
       "     </g>\n",
       "     <g id=\"line2d_8\">\n",
       "      <g>\n",
       "       <use style=\"fill:#555555;stroke:#555555;stroke-width:0.8;\" x=\"203.996552\" xlink:href=\"#m7fcc6e2712\" y=\"224.64\"/>\n",
       "      </g>\n",
       "     </g>\n",
       "     <g id=\"text_4\">\n",
       "      <!-- 31.0 -->\n",
       "      <g style=\"fill:#555555;\" transform=\"translate(192.863739 239.238437)scale(0.1 -0.1)\">\n",
       "       <defs>\n",
       "        <path d=\"M 794 531 \n",
       "L 1825 531 \n",
       "L 1825 4091 \n",
       "L 703 3866 \n",
       "L 703 4441 \n",
       "L 1819 4666 \n",
       "L 2450 4666 \n",
       "L 2450 531 \n",
       "L 3481 531 \n",
       "L 3481 0 \n",
       "L 794 0 \n",
       "L 794 531 \n",
       "z\n",
       "\" id=\"DejaVuSans-31\" transform=\"scale(0.015625)\"/>\n",
       "       </defs>\n",
       "       <use xlink:href=\"#DejaVuSans-33\"/>\n",
       "       <use x=\"63.623047\" xlink:href=\"#DejaVuSans-31\"/>\n",
       "       <use x=\"127.246094\" xlink:href=\"#DejaVuSans-2e\"/>\n",
       "       <use x=\"159.033203\" xlink:href=\"#DejaVuSans-30\"/>\n",
       "      </g>\n",
       "     </g>\n",
       "    </g>\n",
       "    <g id=\"xtick_5\">\n",
       "     <g id=\"line2d_9\">\n",
       "      <path clip-path=\"url(#pdf7bf70d6d)\" d=\"M 251.841185 224.64 \n",
       "L 251.841185 7.2 \n",
       "\" style=\"fill:none;stroke:#ffffff;stroke-linecap:square;stroke-width:0.8;\"/>\n",
       "     </g>\n",
       "     <g id=\"line2d_10\">\n",
       "      <g>\n",
       "       <use style=\"fill:#555555;stroke:#555555;stroke-width:0.8;\" x=\"251.841185\" xlink:href=\"#m7fcc6e2712\" y=\"224.64\"/>\n",
       "      </g>\n",
       "     </g>\n",
       "     <g id=\"text_5\">\n",
       "      <!-- 31.2 -->\n",
       "      <g style=\"fill:#555555;\" transform=\"translate(240.708373 239.238437)scale(0.1 -0.1)\">\n",
       "       <defs>\n",
       "        <path d=\"M 1228 531 \n",
       "L 3431 531 \n",
       "L 3431 0 \n",
       "L 469 0 \n",
       "L 469 531 \n",
       "Q 828 903 1448 1529 \n",
       "Q 2069 2156 2228 2338 \n",
       "Q 2531 2678 2651 2914 \n",
       "Q 2772 3150 2772 3378 \n",
       "Q 2772 3750 2511 3984 \n",
       "Q 2250 4219 1831 4219 \n",
       "Q 1534 4219 1204 4116 \n",
       "Q 875 4013 500 3803 \n",
       "L 500 4441 \n",
       "Q 881 4594 1212 4672 \n",
       "Q 1544 4750 1819 4750 \n",
       "Q 2544 4750 2975 4387 \n",
       "Q 3406 4025 3406 3419 \n",
       "Q 3406 3131 3298 2873 \n",
       "Q 3191 2616 2906 2266 \n",
       "Q 2828 2175 2409 1742 \n",
       "Q 1991 1309 1228 531 \n",
       "z\n",
       "\" id=\"DejaVuSans-32\" transform=\"scale(0.015625)\"/>\n",
       "       </defs>\n",
       "       <use xlink:href=\"#DejaVuSans-33\"/>\n",
       "       <use x=\"63.623047\" xlink:href=\"#DejaVuSans-31\"/>\n",
       "       <use x=\"127.246094\" xlink:href=\"#DejaVuSans-2e\"/>\n",
       "       <use x=\"159.033203\" xlink:href=\"#DejaVuSans-32\"/>\n",
       "      </g>\n",
       "     </g>\n",
       "    </g>\n",
       "    <g id=\"xtick_6\">\n",
       "     <g id=\"line2d_11\">\n",
       "      <path clip-path=\"url(#pdf7bf70d6d)\" d=\"M 299.685819 224.64 \n",
       "L 299.685819 7.2 \n",
       "\" style=\"fill:none;stroke:#ffffff;stroke-linecap:square;stroke-width:0.8;\"/>\n",
       "     </g>\n",
       "     <g id=\"line2d_12\">\n",
       "      <g>\n",
       "       <use style=\"fill:#555555;stroke:#555555;stroke-width:0.8;\" x=\"299.685819\" xlink:href=\"#m7fcc6e2712\" y=\"224.64\"/>\n",
       "      </g>\n",
       "     </g>\n",
       "     <g id=\"text_6\">\n",
       "      <!-- 31.4 -->\n",
       "      <g style=\"fill:#555555;\" transform=\"translate(288.553006 239.238437)scale(0.1 -0.1)\">\n",
       "       <use xlink:href=\"#DejaVuSans-33\"/>\n",
       "       <use x=\"63.623047\" xlink:href=\"#DejaVuSans-31\"/>\n",
       "       <use x=\"127.246094\" xlink:href=\"#DejaVuSans-2e\"/>\n",
       "       <use x=\"159.033203\" xlink:href=\"#DejaVuSans-34\"/>\n",
       "      </g>\n",
       "     </g>\n",
       "    </g>\n",
       "    <g id=\"xtick_7\">\n",
       "     <g id=\"line2d_13\">\n",
       "      <path clip-path=\"url(#pdf7bf70d6d)\" d=\"M 347.530452 224.64 \n",
       "L 347.530452 7.2 \n",
       "\" style=\"fill:none;stroke:#ffffff;stroke-linecap:square;stroke-width:0.8;\"/>\n",
       "     </g>\n",
       "     <g id=\"line2d_14\">\n",
       "      <g>\n",
       "       <use style=\"fill:#555555;stroke:#555555;stroke-width:0.8;\" x=\"347.530452\" xlink:href=\"#m7fcc6e2712\" y=\"224.64\"/>\n",
       "      </g>\n",
       "     </g>\n",
       "     <g id=\"text_7\">\n",
       "      <!-- 31.6 -->\n",
       "      <g style=\"fill:#555555;\" transform=\"translate(336.39764 239.238437)scale(0.1 -0.1)\">\n",
       "       <use xlink:href=\"#DejaVuSans-33\"/>\n",
       "       <use x=\"63.623047\" xlink:href=\"#DejaVuSans-31\"/>\n",
       "       <use x=\"127.246094\" xlink:href=\"#DejaVuSans-2e\"/>\n",
       "       <use x=\"159.033203\" xlink:href=\"#DejaVuSans-36\"/>\n",
       "      </g>\n",
       "     </g>\n",
       "    </g>\n",
       "    <g id=\"text_8\">\n",
       "     <!-- latitude -->\n",
       "     <g style=\"fill:#555555;\" transform=\"translate(204.840625 254.43625)scale(0.12 -0.12)\">\n",
       "      <defs>\n",
       "       <path d=\"M 603 4863 \n",
       "L 1178 4863 \n",
       "L 1178 0 \n",
       "L 603 0 \n",
       "L 603 4863 \n",
       "z\n",
       "\" id=\"DejaVuSans-6c\" transform=\"scale(0.015625)\"/>\n",
       "       <path d=\"M 2194 1759 \n",
       "Q 1497 1759 1228 1600 \n",
       "Q 959 1441 959 1056 \n",
       "Q 959 750 1161 570 \n",
       "Q 1363 391 1709 391 \n",
       "Q 2188 391 2477 730 \n",
       "Q 2766 1069 2766 1631 \n",
       "L 2766 1759 \n",
       "L 2194 1759 \n",
       "z\n",
       "M 3341 1997 \n",
       "L 3341 0 \n",
       "L 2766 0 \n",
       "L 2766 531 \n",
       "Q 2569 213 2275 61 \n",
       "Q 1981 -91 1556 -91 \n",
       "Q 1019 -91 701 211 \n",
       "Q 384 513 384 1019 \n",
       "Q 384 1609 779 1909 \n",
       "Q 1175 2209 1959 2209 \n",
       "L 2766 2209 \n",
       "L 2766 2266 \n",
       "Q 2766 2663 2505 2880 \n",
       "Q 2244 3097 1772 3097 \n",
       "Q 1472 3097 1187 3025 \n",
       "Q 903 2953 641 2809 \n",
       "L 641 3341 \n",
       "Q 956 3463 1253 3523 \n",
       "Q 1550 3584 1831 3584 \n",
       "Q 2591 3584 2966 3190 \n",
       "Q 3341 2797 3341 1997 \n",
       "z\n",
       "\" id=\"DejaVuSans-61\" transform=\"scale(0.015625)\"/>\n",
       "       <path d=\"M 1172 4494 \n",
       "L 1172 3500 \n",
       "L 2356 3500 \n",
       "L 2356 3053 \n",
       "L 1172 3053 \n",
       "L 1172 1153 \n",
       "Q 1172 725 1289 603 \n",
       "Q 1406 481 1766 481 \n",
       "L 2356 481 \n",
       "L 2356 0 \n",
       "L 1766 0 \n",
       "Q 1100 0 847 248 \n",
       "Q 594 497 594 1153 \n",
       "L 594 3053 \n",
       "L 172 3053 \n",
       "L 172 3500 \n",
       "L 594 3500 \n",
       "L 594 4494 \n",
       "L 1172 4494 \n",
       "z\n",
       "\" id=\"DejaVuSans-74\" transform=\"scale(0.015625)\"/>\n",
       "       <path d=\"M 603 3500 \n",
       "L 1178 3500 \n",
       "L 1178 0 \n",
       "L 603 0 \n",
       "L 603 3500 \n",
       "z\n",
       "M 603 4863 \n",
       "L 1178 4863 \n",
       "L 1178 4134 \n",
       "L 603 4134 \n",
       "L 603 4863 \n",
       "z\n",
       "\" id=\"DejaVuSans-69\" transform=\"scale(0.015625)\"/>\n",
       "       <path d=\"M 544 1381 \n",
       "L 544 3500 \n",
       "L 1119 3500 \n",
       "L 1119 1403 \n",
       "Q 1119 906 1312 657 \n",
       "Q 1506 409 1894 409 \n",
       "Q 2359 409 2629 706 \n",
       "Q 2900 1003 2900 1516 \n",
       "L 2900 3500 \n",
       "L 3475 3500 \n",
       "L 3475 0 \n",
       "L 2900 0 \n",
       "L 2900 538 \n",
       "Q 2691 219 2414 64 \n",
       "Q 2138 -91 1772 -91 \n",
       "Q 1169 -91 856 284 \n",
       "Q 544 659 544 1381 \n",
       "z\n",
       "M 1991 3584 \n",
       "L 1991 3584 \n",
       "z\n",
       "\" id=\"DejaVuSans-75\" transform=\"scale(0.015625)\"/>\n",
       "       <path d=\"M 2906 2969 \n",
       "L 2906 4863 \n",
       "L 3481 4863 \n",
       "L 3481 0 \n",
       "L 2906 0 \n",
       "L 2906 525 \n",
       "Q 2725 213 2448 61 \n",
       "Q 2172 -91 1784 -91 \n",
       "Q 1150 -91 751 415 \n",
       "Q 353 922 353 1747 \n",
       "Q 353 2572 751 3078 \n",
       "Q 1150 3584 1784 3584 \n",
       "Q 2172 3584 2448 3432 \n",
       "Q 2725 3281 2906 2969 \n",
       "z\n",
       "M 947 1747 \n",
       "Q 947 1113 1208 752 \n",
       "Q 1469 391 1925 391 \n",
       "Q 2381 391 2643 752 \n",
       "Q 2906 1113 2906 1747 \n",
       "Q 2906 2381 2643 2742 \n",
       "Q 2381 3103 1925 3103 \n",
       "Q 1469 3103 1208 2742 \n",
       "Q 947 2381 947 1747 \n",
       "z\n",
       "\" id=\"DejaVuSans-64\" transform=\"scale(0.015625)\"/>\n",
       "       <path d=\"M 3597 1894 \n",
       "L 3597 1613 \n",
       "L 953 1613 \n",
       "Q 991 1019 1311 708 \n",
       "Q 1631 397 2203 397 \n",
       "Q 2534 397 2845 478 \n",
       "Q 3156 559 3463 722 \n",
       "L 3463 178 \n",
       "Q 3153 47 2828 -22 \n",
       "Q 2503 -91 2169 -91 \n",
       "Q 1331 -91 842 396 \n",
       "Q 353 884 353 1716 \n",
       "Q 353 2575 817 3079 \n",
       "Q 1281 3584 2069 3584 \n",
       "Q 2775 3584 3186 3129 \n",
       "Q 3597 2675 3597 1894 \n",
       "z\n",
       "M 3022 2063 \n",
       "Q 3016 2534 2758 2815 \n",
       "Q 2500 3097 2075 3097 \n",
       "Q 1594 3097 1305 2825 \n",
       "Q 1016 2553 972 2059 \n",
       "L 3022 2063 \n",
       "z\n",
       "\" id=\"DejaVuSans-65\" transform=\"scale(0.015625)\"/>\n",
       "      </defs>\n",
       "      <use xlink:href=\"#DejaVuSans-6c\"/>\n",
       "      <use x=\"27.783203\" xlink:href=\"#DejaVuSans-61\"/>\n",
       "      <use x=\"89.0625\" xlink:href=\"#DejaVuSans-74\"/>\n",
       "      <use x=\"128.271484\" xlink:href=\"#DejaVuSans-69\"/>\n",
       "      <use x=\"156.054688\" xlink:href=\"#DejaVuSans-74\"/>\n",
       "      <use x=\"195.263672\" xlink:href=\"#DejaVuSans-75\"/>\n",
       "      <use x=\"258.642578\" xlink:href=\"#DejaVuSans-64\"/>\n",
       "      <use x=\"322.119141\" xlink:href=\"#DejaVuSans-65\"/>\n",
       "     </g>\n",
       "    </g>\n",
       "   </g>\n",
       "   <g id=\"matplotlib.axis_2\">\n",
       "    <g id=\"ytick_1\">\n",
       "     <g id=\"line2d_15\">\n",
       "      <path clip-path=\"url(#pdf7bf70d6d)\" d=\"M 60.459063 203.554681 \n",
       "L 395.259063 203.554681 \n",
       "\" style=\"fill:none;stroke:#ffffff;stroke-linecap:square;stroke-width:0.8;\"/>\n",
       "     </g>\n",
       "     <g id=\"line2d_16\">\n",
       "      <defs>\n",
       "       <path d=\"M 0 0 \n",
       "L -3.5 0 \n",
       "\" id=\"m395a69e758\" style=\"stroke:#555555;stroke-width:0.8;\"/>\n",
       "      </defs>\n",
       "      <g>\n",
       "       <use style=\"fill:#555555;stroke:#555555;stroke-width:0.8;\" x=\"60.459063\" xlink:href=\"#m395a69e758\" y=\"203.554681\"/>\n",
       "      </g>\n",
       "     </g>\n",
       "     <g id=\"text_9\">\n",
       "      <!-- −63.2 -->\n",
       "      <g style=\"fill:#555555;\" transform=\"translate(22.81375 207.3539)scale(0.1 -0.1)\">\n",
       "       <defs>\n",
       "        <path d=\"M 678 2272 \n",
       "L 4684 2272 \n",
       "L 4684 1741 \n",
       "L 678 1741 \n",
       "L 678 2272 \n",
       "z\n",
       "\" id=\"DejaVuSans-2212\" transform=\"scale(0.015625)\"/>\n",
       "       </defs>\n",
       "       <use xlink:href=\"#DejaVuSans-2212\"/>\n",
       "       <use x=\"83.789062\" xlink:href=\"#DejaVuSans-36\"/>\n",
       "       <use x=\"147.412109\" xlink:href=\"#DejaVuSans-33\"/>\n",
       "       <use x=\"211.035156\" xlink:href=\"#DejaVuSans-2e\"/>\n",
       "       <use x=\"242.822266\" xlink:href=\"#DejaVuSans-32\"/>\n",
       "      </g>\n",
       "     </g>\n",
       "    </g>\n",
       "    <g id=\"ytick_2\">\n",
       "     <g id=\"line2d_17\">\n",
       "      <path clip-path=\"url(#pdf7bf70d6d)\" d=\"M 60.459063 176.166703 \n",
       "L 395.259063 176.166703 \n",
       "\" style=\"fill:none;stroke:#ffffff;stroke-linecap:square;stroke-width:0.8;\"/>\n",
       "     </g>\n",
       "     <g id=\"line2d_18\">\n",
       "      <g>\n",
       "       <use style=\"fill:#555555;stroke:#555555;stroke-width:0.8;\" x=\"60.459063\" xlink:href=\"#m395a69e758\" y=\"176.166703\"/>\n",
       "      </g>\n",
       "     </g>\n",
       "     <g id=\"text_10\">\n",
       "      <!-- −63.0 -->\n",
       "      <g style=\"fill:#555555;\" transform=\"translate(22.81375 179.965922)scale(0.1 -0.1)\">\n",
       "       <use xlink:href=\"#DejaVuSans-2212\"/>\n",
       "       <use x=\"83.789062\" xlink:href=\"#DejaVuSans-36\"/>\n",
       "       <use x=\"147.412109\" xlink:href=\"#DejaVuSans-33\"/>\n",
       "       <use x=\"211.035156\" xlink:href=\"#DejaVuSans-2e\"/>\n",
       "       <use x=\"242.822266\" xlink:href=\"#DejaVuSans-30\"/>\n",
       "      </g>\n",
       "     </g>\n",
       "    </g>\n",
       "    <g id=\"ytick_3\">\n",
       "     <g id=\"line2d_19\">\n",
       "      <path clip-path=\"url(#pdf7bf70d6d)\" d=\"M 60.459063 148.778726 \n",
       "L 395.259063 148.778726 \n",
       "\" style=\"fill:none;stroke:#ffffff;stroke-linecap:square;stroke-width:0.8;\"/>\n",
       "     </g>\n",
       "     <g id=\"line2d_20\">\n",
       "      <g>\n",
       "       <use style=\"fill:#555555;stroke:#555555;stroke-width:0.8;\" x=\"60.459063\" xlink:href=\"#m395a69e758\" y=\"148.778726\"/>\n",
       "      </g>\n",
       "     </g>\n",
       "     <g id=\"text_11\">\n",
       "      <!-- −62.8 -->\n",
       "      <g style=\"fill:#555555;\" transform=\"translate(22.81375 152.577945)scale(0.1 -0.1)\">\n",
       "       <use xlink:href=\"#DejaVuSans-2212\"/>\n",
       "       <use x=\"83.789062\" xlink:href=\"#DejaVuSans-36\"/>\n",
       "       <use x=\"147.412109\" xlink:href=\"#DejaVuSans-32\"/>\n",
       "       <use x=\"211.035156\" xlink:href=\"#DejaVuSans-2e\"/>\n",
       "       <use x=\"242.822266\" xlink:href=\"#DejaVuSans-38\"/>\n",
       "      </g>\n",
       "     </g>\n",
       "    </g>\n",
       "    <g id=\"ytick_4\">\n",
       "     <g id=\"line2d_21\">\n",
       "      <path clip-path=\"url(#pdf7bf70d6d)\" d=\"M 60.459063 121.390748 \n",
       "L 395.259063 121.390748 \n",
       "\" style=\"fill:none;stroke:#ffffff;stroke-linecap:square;stroke-width:0.8;\"/>\n",
       "     </g>\n",
       "     <g id=\"line2d_22\">\n",
       "      <g>\n",
       "       <use style=\"fill:#555555;stroke:#555555;stroke-width:0.8;\" x=\"60.459063\" xlink:href=\"#m395a69e758\" y=\"121.390748\"/>\n",
       "      </g>\n",
       "     </g>\n",
       "     <g id=\"text_12\">\n",
       "      <!-- −62.6 -->\n",
       "      <g style=\"fill:#555555;\" transform=\"translate(22.81375 125.189967)scale(0.1 -0.1)\">\n",
       "       <use xlink:href=\"#DejaVuSans-2212\"/>\n",
       "       <use x=\"83.789062\" xlink:href=\"#DejaVuSans-36\"/>\n",
       "       <use x=\"147.412109\" xlink:href=\"#DejaVuSans-32\"/>\n",
       "       <use x=\"211.035156\" xlink:href=\"#DejaVuSans-2e\"/>\n",
       "       <use x=\"242.822266\" xlink:href=\"#DejaVuSans-36\"/>\n",
       "      </g>\n",
       "     </g>\n",
       "    </g>\n",
       "    <g id=\"ytick_5\">\n",
       "     <g id=\"line2d_23\">\n",
       "      <path clip-path=\"url(#pdf7bf70d6d)\" d=\"M 60.459063 94.002771 \n",
       "L 395.259063 94.002771 \n",
       "\" style=\"fill:none;stroke:#ffffff;stroke-linecap:square;stroke-width:0.8;\"/>\n",
       "     </g>\n",
       "     <g id=\"line2d_24\">\n",
       "      <g>\n",
       "       <use style=\"fill:#555555;stroke:#555555;stroke-width:0.8;\" x=\"60.459063\" xlink:href=\"#m395a69e758\" y=\"94.002771\"/>\n",
       "      </g>\n",
       "     </g>\n",
       "     <g id=\"text_13\">\n",
       "      <!-- −62.4 -->\n",
       "      <g style=\"fill:#555555;\" transform=\"translate(22.81375 97.80199)scale(0.1 -0.1)\">\n",
       "       <use xlink:href=\"#DejaVuSans-2212\"/>\n",
       "       <use x=\"83.789062\" xlink:href=\"#DejaVuSans-36\"/>\n",
       "       <use x=\"147.412109\" xlink:href=\"#DejaVuSans-32\"/>\n",
       "       <use x=\"211.035156\" xlink:href=\"#DejaVuSans-2e\"/>\n",
       "       <use x=\"242.822266\" xlink:href=\"#DejaVuSans-34\"/>\n",
       "      </g>\n",
       "     </g>\n",
       "    </g>\n",
       "    <g id=\"ytick_6\">\n",
       "     <g id=\"line2d_25\">\n",
       "      <path clip-path=\"url(#pdf7bf70d6d)\" d=\"M 60.459063 66.614794 \n",
       "L 395.259063 66.614794 \n",
       "\" style=\"fill:none;stroke:#ffffff;stroke-linecap:square;stroke-width:0.8;\"/>\n",
       "     </g>\n",
       "     <g id=\"line2d_26\">\n",
       "      <g>\n",
       "       <use style=\"fill:#555555;stroke:#555555;stroke-width:0.8;\" x=\"60.459063\" xlink:href=\"#m395a69e758\" y=\"66.614794\"/>\n",
       "      </g>\n",
       "     </g>\n",
       "     <g id=\"text_14\">\n",
       "      <!-- −62.2 -->\n",
       "      <g style=\"fill:#555555;\" transform=\"translate(22.81375 70.414012)scale(0.1 -0.1)\">\n",
       "       <use xlink:href=\"#DejaVuSans-2212\"/>\n",
       "       <use x=\"83.789062\" xlink:href=\"#DejaVuSans-36\"/>\n",
       "       <use x=\"147.412109\" xlink:href=\"#DejaVuSans-32\"/>\n",
       "       <use x=\"211.035156\" xlink:href=\"#DejaVuSans-2e\"/>\n",
       "       <use x=\"242.822266\" xlink:href=\"#DejaVuSans-32\"/>\n",
       "      </g>\n",
       "     </g>\n",
       "    </g>\n",
       "    <g id=\"ytick_7\">\n",
       "     <g id=\"line2d_27\">\n",
       "      <path clip-path=\"url(#pdf7bf70d6d)\" d=\"M 60.459063 39.226816 \n",
       "L 395.259063 39.226816 \n",
       "\" style=\"fill:none;stroke:#ffffff;stroke-linecap:square;stroke-width:0.8;\"/>\n",
       "     </g>\n",
       "     <g id=\"line2d_28\">\n",
       "      <g>\n",
       "       <use style=\"fill:#555555;stroke:#555555;stroke-width:0.8;\" x=\"60.459063\" xlink:href=\"#m395a69e758\" y=\"39.226816\"/>\n",
       "      </g>\n",
       "     </g>\n",
       "     <g id=\"text_15\">\n",
       "      <!-- −62.0 -->\n",
       "      <g style=\"fill:#555555;\" transform=\"translate(22.81375 43.026035)scale(0.1 -0.1)\">\n",
       "       <use xlink:href=\"#DejaVuSans-2212\"/>\n",
       "       <use x=\"83.789062\" xlink:href=\"#DejaVuSans-36\"/>\n",
       "       <use x=\"147.412109\" xlink:href=\"#DejaVuSans-32\"/>\n",
       "       <use x=\"211.035156\" xlink:href=\"#DejaVuSans-2e\"/>\n",
       "       <use x=\"242.822266\" xlink:href=\"#DejaVuSans-30\"/>\n",
       "      </g>\n",
       "     </g>\n",
       "    </g>\n",
       "    <g id=\"ytick_8\">\n",
       "     <g id=\"line2d_29\">\n",
       "      <path clip-path=\"url(#pdf7bf70d6d)\" d=\"M 60.459063 11.838839 \n",
       "L 395.259063 11.838839 \n",
       "\" style=\"fill:none;stroke:#ffffff;stroke-linecap:square;stroke-width:0.8;\"/>\n",
       "     </g>\n",
       "     <g id=\"line2d_30\">\n",
       "      <g>\n",
       "       <use style=\"fill:#555555;stroke:#555555;stroke-width:0.8;\" x=\"60.459063\" xlink:href=\"#m395a69e758\" y=\"11.838839\"/>\n",
       "      </g>\n",
       "     </g>\n",
       "     <g id=\"text_16\">\n",
       "      <!-- −61.8 -->\n",
       "      <g style=\"fill:#555555;\" transform=\"translate(22.81375 15.638057)scale(0.1 -0.1)\">\n",
       "       <use xlink:href=\"#DejaVuSans-2212\"/>\n",
       "       <use x=\"83.789062\" xlink:href=\"#DejaVuSans-36\"/>\n",
       "       <use x=\"147.412109\" xlink:href=\"#DejaVuSans-31\"/>\n",
       "       <use x=\"211.035156\" xlink:href=\"#DejaVuSans-2e\"/>\n",
       "       <use x=\"242.822266\" xlink:href=\"#DejaVuSans-38\"/>\n",
       "      </g>\n",
       "     </g>\n",
       "    </g>\n",
       "    <g id=\"text_17\">\n",
       "     <!-- longitude -->\n",
       "     <g style=\"fill:#555555;\" transform=\"translate(16.318125 144.192187)rotate(-90)scale(0.12 -0.12)\">\n",
       "      <defs>\n",
       "       <path d=\"M 1959 3097 \n",
       "Q 1497 3097 1228 2736 \n",
       "Q 959 2375 959 1747 \n",
       "Q 959 1119 1226 758 \n",
       "Q 1494 397 1959 397 \n",
       "Q 2419 397 2687 759 \n",
       "Q 2956 1122 2956 1747 \n",
       "Q 2956 2369 2687 2733 \n",
       "Q 2419 3097 1959 3097 \n",
       "z\n",
       "M 1959 3584 \n",
       "Q 2709 3584 3137 3096 \n",
       "Q 3566 2609 3566 1747 \n",
       "Q 3566 888 3137 398 \n",
       "Q 2709 -91 1959 -91 \n",
       "Q 1206 -91 779 398 \n",
       "Q 353 888 353 1747 \n",
       "Q 353 2609 779 3096 \n",
       "Q 1206 3584 1959 3584 \n",
       "z\n",
       "\" id=\"DejaVuSans-6f\" transform=\"scale(0.015625)\"/>\n",
       "       <path d=\"M 3513 2113 \n",
       "L 3513 0 \n",
       "L 2938 0 \n",
       "L 2938 2094 \n",
       "Q 2938 2591 2744 2837 \n",
       "Q 2550 3084 2163 3084 \n",
       "Q 1697 3084 1428 2787 \n",
       "Q 1159 2491 1159 1978 \n",
       "L 1159 0 \n",
       "L 581 0 \n",
       "L 581 3500 \n",
       "L 1159 3500 \n",
       "L 1159 2956 \n",
       "Q 1366 3272 1645 3428 \n",
       "Q 1925 3584 2291 3584 \n",
       "Q 2894 3584 3203 3211 \n",
       "Q 3513 2838 3513 2113 \n",
       "z\n",
       "\" id=\"DejaVuSans-6e\" transform=\"scale(0.015625)\"/>\n",
       "       <path d=\"M 2906 1791 \n",
       "Q 2906 2416 2648 2759 \n",
       "Q 2391 3103 1925 3103 \n",
       "Q 1463 3103 1205 2759 \n",
       "Q 947 2416 947 1791 \n",
       "Q 947 1169 1205 825 \n",
       "Q 1463 481 1925 481 \n",
       "Q 2391 481 2648 825 \n",
       "Q 2906 1169 2906 1791 \n",
       "z\n",
       "M 3481 434 \n",
       "Q 3481 -459 3084 -895 \n",
       "Q 2688 -1331 1869 -1331 \n",
       "Q 1566 -1331 1297 -1286 \n",
       "Q 1028 -1241 775 -1147 \n",
       "L 775 -588 \n",
       "Q 1028 -725 1275 -790 \n",
       "Q 1522 -856 1778 -856 \n",
       "Q 2344 -856 2625 -561 \n",
       "Q 2906 -266 2906 331 \n",
       "L 2906 616 \n",
       "Q 2728 306 2450 153 \n",
       "Q 2172 0 1784 0 \n",
       "Q 1141 0 747 490 \n",
       "Q 353 981 353 1791 \n",
       "Q 353 2603 747 3093 \n",
       "Q 1141 3584 1784 3584 \n",
       "Q 2172 3584 2450 3431 \n",
       "Q 2728 3278 2906 2969 \n",
       "L 2906 3500 \n",
       "L 3481 3500 \n",
       "L 3481 434 \n",
       "z\n",
       "\" id=\"DejaVuSans-67\" transform=\"scale(0.015625)\"/>\n",
       "      </defs>\n",
       "      <use xlink:href=\"#DejaVuSans-6c\"/>\n",
       "      <use x=\"27.783203\" xlink:href=\"#DejaVuSans-6f\"/>\n",
       "      <use x=\"88.964844\" xlink:href=\"#DejaVuSans-6e\"/>\n",
       "      <use x=\"152.34375\" xlink:href=\"#DejaVuSans-67\"/>\n",
       "      <use x=\"215.820312\" xlink:href=\"#DejaVuSans-69\"/>\n",
       "      <use x=\"243.603516\" xlink:href=\"#DejaVuSans-74\"/>\n",
       "      <use x=\"282.8125\" xlink:href=\"#DejaVuSans-75\"/>\n",
       "      <use x=\"346.191406\" xlink:href=\"#DejaVuSans-64\"/>\n",
       "      <use x=\"409.667969\" xlink:href=\"#DejaVuSans-65\"/>\n",
       "     </g>\n",
       "    </g>\n",
       "   </g>\n",
       "   <g id=\"PathCollection_1\">\n",
       "    <defs>\n",
       "     <path d=\"M 0 2.236068 \n",
       "C 0.593012 2.236068 1.161816 2.000462 1.581139 1.581139 \n",
       "C 2.000462 1.161816 2.236068 0.593012 2.236068 0 \n",
       "C 2.236068 -0.593012 2.000462 -1.161816 1.581139 -1.581139 \n",
       "C 1.161816 -2.000462 0.593012 -2.236068 0 -2.236068 \n",
       "C -0.593012 -2.236068 -1.161816 -2.000462 -1.581139 -1.581139 \n",
       "C -2.000462 -1.161816 -2.236068 -0.593012 -2.236068 0 \n",
       "C -2.236068 0.593012 -2.000462 1.161816 -1.581139 1.581139 \n",
       "C -1.161816 2.000462 -0.593012 2.236068 0 2.236068 \n",
       "z\n",
       "\" id=\"mec682e7088\" style=\"stroke:#348abd;stroke-width:0.5;\"/>\n",
       "    </defs>\n",
       "    <g clip-path=\"url(#pdf7bf70d6d)\">\n",
       "     <use style=\"fill:#348abd;stroke:#348abd;stroke-width:0.5;\" x=\"75.677244\" xlink:href=\"#mec682e7088\" y=\"214.756364\"/>\n",
       "     <use style=\"fill:#348abd;stroke:#348abd;stroke-width:0.5;\" x=\"107.94845\" xlink:href=\"#mec682e7088\" y=\"194.215381\"/>\n",
       "     <use style=\"fill:#348abd;stroke:#348abd;stroke-width:0.5;\" x=\"140.147888\" xlink:href=\"#mec682e7088\" y=\"173.619622\"/>\n",
       "     <use style=\"fill:#348abd;stroke:#348abd;stroke-width:0.5;\" x=\"172.299482\" xlink:href=\"#mec682e7088\" y=\"152.955393\"/>\n",
       "     <use style=\"fill:#348abd;stroke:#348abd;stroke-width:0.5;\" x=\"209.737908\" xlink:href=\"#mec682e7088\" y=\"128.771808\"/>\n",
       "     <use style=\"fill:#348abd;stroke:#348abd;stroke-width:0.5;\" x=\"241.793812\" xlink:href=\"#mec682e7088\" y=\"107.956946\"/>\n",
       "     <use style=\"fill:#348abd;stroke:#348abd;stroke-width:0.5;\" x=\"284.423381\" xlink:href=\"#mec682e7088\" y=\"80.13076\"/>\n",
       "     <use style=\"fill:#348abd;stroke:#348abd;stroke-width:0.5;\" x=\"316.335751\" xlink:href=\"#mec682e7088\" y=\"59.192652\"/>\n",
       "     <use style=\"fill:#348abd;stroke:#348abd;stroke-width:0.5;\" x=\"348.224199\" xlink:href=\"#mec682e7088\" y=\"38.172379\"/>\n",
       "     <use style=\"fill:#348abd;stroke:#348abd;stroke-width:0.5;\" x=\"380.040881\" xlink:href=\"#mec682e7088\" y=\"17.083636\"/>\n",
       "    </g>\n",
       "   </g>\n",
       "   <g id=\"patch_3\">\n",
       "    <path d=\"M 60.459063 224.64 \n",
       "L 60.459063 7.2 \n",
       "\" style=\"fill:none;stroke:#ffffff;stroke-linecap:square;stroke-linejoin:miter;\"/>\n",
       "   </g>\n",
       "   <g id=\"patch_4\">\n",
       "    <path d=\"M 395.259063 224.64 \n",
       "L 395.259063 7.2 \n",
       "\" style=\"fill:none;stroke:#ffffff;stroke-linecap:square;stroke-linejoin:miter;\"/>\n",
       "   </g>\n",
       "   <g id=\"patch_5\">\n",
       "    <path d=\"M 60.459063 224.64 \n",
       "L 395.259062 224.64 \n",
       "\" style=\"fill:none;stroke:#ffffff;stroke-linecap:square;stroke-linejoin:miter;\"/>\n",
       "   </g>\n",
       "   <g id=\"patch_6\">\n",
       "    <path d=\"M 60.459063 7.2 \n",
       "L 395.259062 7.2 \n",
       "\" style=\"fill:none;stroke:#ffffff;stroke-linecap:square;stroke-linejoin:miter;\"/>\n",
       "   </g>\n",
       "  </g>\n",
       " </g>\n",
       " <defs>\n",
       "  <clipPath id=\"pdf7bf70d6d\">\n",
       "   <rect height=\"217.44\" width=\"334.8\" x=\"60.459063\" y=\"7.2\"/>\n",
       "  </clipPath>\n",
       " </defs>\n",
       "</svg>\n"
      ],
      "text/plain": [
       "<Figure size 432x288 with 1 Axes>"
      ]
     },
     "metadata": {},
     "output_type": "display_data"
    }
   ],
   "source": [
    "import matplotlib.pyplot as plt\n",
    "# This next line tells jupyter to render the images inline\n",
    "%matplotlib inline\n",
    "plt.style.use('ggplot')\n",
    "iss_position_df.plot(kind=\"scatter\", x=\"latitude\", y=\"longitude\")"
   ]
  },
  {
   "cell_type": "markdown",
   "metadata": {},
   "source": [
    "### Querying with Parameters\n",
    "\n",
    "Requests can be parametrized. You can search for tweets of a specific user, for example, or [retrieve the time the ISS is over SLC](http://open-notify.org/Open-Notify-API/ISS-Pass-Times/)!\n",
    "\n",
    "The way to query with a get request for the ISS is this:\n",
    "\n",
    "`http://api.open-notify.org/iss-pass.json?lat=40.758701&lon=-111.876183`\n",
    "\n",
    "We, of course, could generate that URL ourselves, but the requests library is helpful here. Since JSON is similar to dictionaries, the requests library takes dictionaries for parameters."
   ]
  },
  {
   "cell_type": "code",
   "execution_count": 41,
   "metadata": {},
   "outputs": [
    {
     "data": {
      "text/plain": [
       "{'message': 'success',\n",
       " 'request': {'altitude': 100,\n",
       "  'datetime': 1622653088,\n",
       "  'latitude': 40.758701,\n",
       "  'longitude': -111.876183,\n",
       "  'passes': 5},\n",
       " 'response': [{'duration': 601, 'risetime': 1622663917},\n",
       "  {'duration': 646, 'risetime': 1622669692},\n",
       "  {'duration': 578, 'risetime': 1622675573},\n",
       "  {'duration': 572, 'risetime': 1622681448},\n",
       "  {'duration': 641, 'risetime': 1622687266}]}"
      ]
     },
     "execution_count": 41,
     "metadata": {},
     "output_type": "execute_result"
    }
   ],
   "source": [
    "url = \"http://api.open-notify.org/iss-pass.json\"\n",
    "coordinates = {\"lat\": 40.758701, \"lon\": -111.876183, \"n\":5}\n",
    "\n",
    "r = requests.get(url, params=coordinates)\n",
    "data = r.json()\n",
    "data"
   ]
  },
  {
   "cell_type": "code",
   "execution_count": 13,
   "metadata": {},
   "outputs": [
    {
     "data": {
      "text/plain": [
       "Timestamp('2021-05-28 20:45:27')"
      ]
     },
     "execution_count": 13,
     "metadata": {},
     "output_type": "execute_result"
    }
   ],
   "source": [
    "timestamp = data[\"response\"][0][\"risetime\"]\n",
    "pd.to_datetime(timestamp,  unit=\"s\")"
   ]
  },
  {
   "cell_type": "markdown",
   "metadata": {},
   "source": [
    "So, the ISS will be visible at 4:13:34!"
   ]
  },
  {
   "cell_type": "markdown",
   "metadata": {},
   "source": [
    "### Exercise: How many Astronauts? \n",
    "\n",
    "Use the [Open Notify API](http://open-notify.org/Open-Notify-API/People-In-Space/) to find out how many people are in space right now."
   ]
  },
  {
   "cell_type": "code",
   "execution_count": 42,
   "metadata": {},
   "outputs": [
    {
     "data": {
      "text/plain": [
       "{'number': 7,\n",
       " 'message': 'success',\n",
       " 'people': [{'name': 'Mark Vande Hei', 'craft': 'ISS'},\n",
       "  {'name': 'Oleg Novitskiy', 'craft': 'ISS'},\n",
       "  {'name': 'Pyotr Dubrov', 'craft': 'ISS'},\n",
       "  {'name': 'Thomas Pesquet', 'craft': 'ISS'},\n",
       "  {'name': 'Megan McArthur', 'craft': 'ISS'},\n",
       "  {'name': 'Shane Kimbrough', 'craft': 'ISS'},\n",
       "  {'name': 'Akihiko Hoshide', 'craft': 'ISS'}]}"
      ]
     },
     "execution_count": 42,
     "metadata": {},
     "output_type": "execute_result"
    }
   ],
   "source": [
    "r = requests.get(\"http://api.open-notify.org/astros.json\")\n",
    "data = r.json()\n",
    "data"
   ]
  },
  {
   "cell_type": "markdown",
   "metadata": {},
   "source": [
    "## Libraries and Authentication\n",
    "\n",
    "While we now have the skills to directly talk to an API, it's sometimes a little tedious. Popular APIs often have existing Python libraries that wrap around them. [Here](https://github.com/realpython/list-of-python-api-wrappers) is a long list of wrappers! \n",
    "\n",
    "\n",
    "We'll use the Github Python API wrapper: [PyGithub](https://github.com/PyGithub/PyGithub)\n",
    "\n",
    "I also have used the commandline version fairly regularly (`brew install gh`).  I've used it to, for example, get a list of github usernames of everyone in an organization in JSON format, or to grant read access to a repo for each student in a course.  For getting data, the python API is probably nicer to use.\n"
   ]
  },
  {
   "cell_type": "code",
   "execution_count": 2,
   "metadata": {},
   "outputs": [],
   "source": [
    "# imports for the python wrapper for the github API\n",
    "# `pip3 install pygithub` then:\n",
    "\n",
    "from github import Github\n",
    "from github import Auth"
   ]
  },
  {
   "cell_type": "markdown",
   "metadata": {},
   "source": [
    "You need to have permissions to access Github data.  Normally every HTTP request you send includes a `Authorization: Bearer-.....` header (or similar) with a \"token\" which Github can check to make sure you're allowed to request the info/perform the action you want.  In the \"Developer Settings\" menu of your settings page, you can create a \"personal access token\" which can be went wiht requests.  This works fine to get data using your own account.\n",
    "\n",
    "If you were making an app for other people to use, typically you use a system like OAuth.  You register your app with Github and say which actions you want to perform on your users behalf.  When they run your app, they log into github and are asked if they approve of your app having permissions to perform some actions.  If the user agrees, they get a token which includes info about their own account as well as the app which is using it, and taht token is sent with requests."
   ]
  },
  {
   "cell_type": "code",
   "execution_count": 10,
   "metadata": {},
   "outputs": [],
   "source": [
    "# My token is in a file that I'm importing and not sharing with you all.\n",
    "from githubAccessToken import github_token "
   ]
  },
  {
   "cell_type": "code",
   "execution_count": 13,
   "metadata": {},
   "outputs": [],
   "source": [
    "# Log in and get a \"github object\" which is the python wrapper for the REST API\n",
    "auth = Auth.Token(github_token)\n",
    "# First create a Github instance:\n",
    "g = Github(auth=auth)\n",
    "\n",
    "# method on g will make API calls to github and convert the reponses into python objects which are convenient to work with"
   ]
  },
  {
   "cell_type": "code",
   "execution_count": 22,
   "metadata": {},
   "outputs": [
    {
     "data": {
      "text/plain": [
       "'Ben Jones'"
      ]
     },
     "metadata": {},
     "output_type": "display_data"
    },
    {
     "data": {
      "text/plain": [
       "'Teaching professor in the Kahlert School of Computing at U of Utah.  (see cs.utah.edu and msd.utah.edu).  Evangelist of the D language (dlang.org)'"
      ]
     },
     "metadata": {},
     "output_type": "display_data"
    }
   ],
   "source": [
    "display(g.get_user().name)\n",
    "display(g.get_user().bio)"
   ]
  },
  {
   "cell_type": "code",
   "execution_count": 58,
   "metadata": {},
   "outputs": [
    {
     "data": {
      "text/plain": [
       "[Repository(full_name=\"benjones/acaTruth\"),\n",
       " Repository(full_name=\"benjones/adaptiveDeformables\"),\n",
       " Repository(full_name=\"benjones/adventOfCode2019\"),\n",
       " Repository(full_name=\"benjones/arrayvl\"),\n",
       " Repository(full_name=\"benjones/aStarAnimation\"),\n",
       " Repository(full_name=\"benjones/autoparsed\"),\n",
       " Repository(full_name=\"benjones/benjones.github.io\"),\n",
       " Repository(full_name=\"benjones/benlib\"),\n",
       " Repository(full_name=\"benjones/brokenThesis\"),\n",
       " Repository(full_name=\"benjones/cppitertools\"),\n",
       " Repository(full_name=\"benjones/dlang.org\"),\n",
       " Repository(full_name=\"benjones/dmd\"),\n",
       " Repository(full_name=\"benjones/druntime\"),\n",
       " Repository(full_name=\"benjones/dtriangulate\"),\n",
       " Repository(full_name=\"benjones/elastoplasticCuda\"),\n",
       " Repository(full_name=\"benjones/eltopo\"),\n",
       " Repository(full_name=\"benjones/farkle\"),\n",
       " Repository(full_name=\"benjones/feedbackAggregator\"),\n",
       " Repository(full_name=\"benjones/fem2D\"),\n",
       " Repository(full_name=\"benjones/fluidSim\"),\n",
       " Repository(full_name=\"benjones/fusepy\"),\n",
       " Repository(full_name=\"benjones/getUp2D\"),\n",
       " Repository(full_name=\"benjones/gl3n\"),\n",
       " Repository(full_name=\"benjones/gradescopeJunit5Autograder\"),\n",
       " Repository(full_name=\"benjones/heterogeneousSet\"),\n",
       " Repository(full_name=\"benjones/imageTriangulator\"),\n",
       " Repository(full_name=\"benjones/inferPhysics\"),\n",
       " Repository(full_name=\"benjones/jCollide\"),\n",
       " Repository(full_name=\"benjones/kdTree\"),\n",
       " Repository(full_name=\"benjones/microkorgXL\"),\n",
       " Repository(full_name=\"benjones/momentumBasedBalance\"),\n",
       " Repository(full_name=\"benjones/phobos\"),\n",
       " Repository(full_name=\"benjones/presenterMode\"),\n",
       " Repository(full_name=\"benjones/qrcode\"),\n",
       " Repository(full_name=\"benjones/quatSVD\"),\n",
       " Repository(full_name=\"benjones/radianceCacheSplatting\"),\n",
       " Repository(full_name=\"benjones/rccjs\"),\n",
       " Repository(full_name=\"benjones/rustVsCpp\"),\n",
       " Repository(full_name=\"benjones/shapefilers\"),\n",
       " Repository(full_name=\"benjones/simpleFSM\"),\n",
       " Repository(full_name=\"benjones/snappoll\"),\n",
       " Repository(full_name=\"benjones/strainLimitingForClusteredShapeMatching\"),\n",
       " Repository(full_name=\"benjones/svgResizingReduced\"),\n",
       " Repository(full_name=\"benjones/taobataocp\"),\n",
       " Repository(full_name=\"benjones/treevolve\"),\n",
       " Repository(full_name=\"benjones/vibe.d\"),\n",
       " Repository(full_name=\"benjones/workSplitter\"),\n",
       " Repository(full_name=\"BrianErichsen/6017\"),\n",
       " Repository(full_name=\"BrianErichsen/ProSmartGuy\"),\n",
       " Repository(full_name=\"lauryn-c-hansen/Application_System_Design\"),\n",
       " Repository(full_name=\"Mack-Tawa/ExposureCapstone\"),\n",
       " Repository(full_name=\"prattaiden/AP-6012\"),\n",
       " Repository(full_name=\"randiprince/cs6014\"),\n",
       " Repository(full_name=\"samipope/Samantha-Popes-MSD-Portfolio\"),\n",
       " Repository(full_name=\"sreesaiogetiammini/Paints\"),\n",
       " Repository(full_name=\"UofUAndroidPaintApp/AndroidPaintApp\"),\n",
       " Repository(full_name=\"UtahMSD/anirudhLath\"),\n",
       " Repository(full_name=\"UtahMSD/anirudhLath_suvamBiswas_finalProject\"),\n",
       " Repository(full_name=\"UtahMSD/cs6015-webscrapers\"),\n",
       " Repository(full_name=\"UtahMSD/MSDscript\"),\n",
       " Repository(full_name=\"UtahMSD/QuadrillateralClassifier_Test_Suit\"),\n",
       " Repository(full_name=\"YuanRuQian/Capstone-Project\"),\n",
       " Repository(full_name=\"YuanRuQian/CS6018-Group-Project\")]"
      ]
     },
     "metadata": {},
     "output_type": "display_data"
    }
   ],
   "source": [
    "repos = list(g.get_user().get_repos())\n",
    "display(repos)"
   ]
  },
  {
   "cell_type": "markdown",
   "metadata": {},
   "source": [
    "The objects we get have nice methods for accessing properties of the relevant data.  Some of it was (probablly) included in the initial response, others (probably) require making additional requests to get that data"
   ]
  },
  {
   "cell_type": "code",
   "execution_count": 26,
   "metadata": {},
   "outputs": [
    {
     "data": {
      "text/plain": [
       "{'C++',\n",
       " 'D',\n",
       " 'Go',\n",
       " 'HTML',\n",
       " 'Java',\n",
       " 'JavaScript',\n",
       " 'Jupyter Notebook',\n",
       " 'Kotlin',\n",
       " 'Makefile',\n",
       " None,\n",
       " 'Python',\n",
       " 'Rust',\n",
       " 'Swift',\n",
       " 'TeX'}"
      ]
     },
     "execution_count": 26,
     "metadata": {},
     "output_type": "execute_result"
    }
   ],
   "source": [
    "set( [repo.language for repo in repos])"
   ]
  },
  {
   "cell_type": "code",
   "execution_count": 28,
   "metadata": {},
   "outputs": [
    {
     "data": {
      "text/plain": [
       "[Repository(full_name=\"benjones/adventOfCode2019\"),\n",
       " Repository(full_name=\"benjones/arrayvl\"),\n",
       " Repository(full_name=\"benjones/autoparsed\"),\n",
       " Repository(full_name=\"benjones/dmd\"),\n",
       " Repository(full_name=\"benjones/druntime\"),\n",
       " Repository(full_name=\"benjones/dtriangulate\"),\n",
       " Repository(full_name=\"benjones/farkle\"),\n",
       " Repository(full_name=\"benjones/phobos\"),\n",
       " Repository(full_name=\"benjones/snappoll\")]"
      ]
     },
     "metadata": {},
     "output_type": "display_data"
    }
   ],
   "source": [
    "dRepos = [repo for repo in repos if repo.language == 'D']\n",
    "display(dRepos)"
   ]
  },
  {
   "cell_type": "markdown",
   "metadata": {},
   "source": [
    "Let's look at a particular repo in more detail"
   ]
  },
  {
   "cell_type": "code",
   "execution_count": 62,
   "metadata": {},
   "outputs": [
    {
     "data": {
      "text/plain": [
       "Repository(full_name=\"benjones/adventOfCode2019\")"
      ]
     },
     "execution_count": 62,
     "metadata": {},
     "output_type": "execute_result"
    }
   ],
   "source": [
    "# advent of code is a yearly challenge with a new programming problem (christmas themed) each day of December until Christmas.\n",
    "# I guess I did it in D in 2019\n",
    "aoc2019 = dRepos[0]\n",
    "aoc2019"
   ]
  },
  {
   "cell_type": "markdown",
   "metadata": {},
   "source": [
    "I looked at 3 different sources of documentation for this example:\n",
    "\n",
    "* The Python API lib docs\n",
    "* the Github REST API docs [here](https://docs.github.com/en/rest/commits/commits?apiVersion=2022-11-28#get-a-commit) which I consider to probably be the most thorough/consistent\n",
    "* introspecting the python objects themselves, like below"
   ]
  },
  {
   "cell_type": "code",
   "execution_count": 64,
   "metadata": {},
   "outputs": [],
   "source": [
    "#dir(aoc2019) # tells me what members/methods this object has.  It's super useful!"
   ]
  },
  {
   "cell_type": "code",
   "execution_count": 31,
   "metadata": {},
   "outputs": [
    {
     "data": {
      "text/plain": [
       "[Commit(sha=\"030fac4ca763ec778b6e085d129d77b485c8a640\"),\n",
       " Commit(sha=\"93728afb468f5ba2c1409ea6a46014bd622b91d7\"),\n",
       " Commit(sha=\"54d5754a01c3601c896cbfcb45e36cd00df42666\"),\n",
       " Commit(sha=\"671d44a0268e90e111d58dce15191c317c462a0b\"),\n",
       " Commit(sha=\"11f7e51b3e856602d4e1567469ab4dc5e1b6045d\"),\n",
       " Commit(sha=\"d4d0122bd330190d7158838f51c0a45bdf19a8c3\"),\n",
       " Commit(sha=\"6a3545eb65eb12316e063da6c00f17a1072628b7\"),\n",
       " Commit(sha=\"7e12efb0623d8f728e356a2363fec7b679afb939\"),\n",
       " Commit(sha=\"ac89f5dffac3304ef019affc3dae8309da34919e\"),\n",
       " Commit(sha=\"a48f3ccdbf7eeb1831e78901989ba8bcf18cef4b\"),\n",
       " Commit(sha=\"9b4341970b388e4a6f003c2acfbac9aa2d9bd134\"),\n",
       " Commit(sha=\"09a0150aa069e788f285f4f3482c062038e0c10c\"),\n",
       " Commit(sha=\"1deb1a4be3dab8c5181c99845c5a0f232e02e359\"),\n",
       " Commit(sha=\"bc50fde1921d5a40b8851185974f7f532cfc5640\"),\n",
       " Commit(sha=\"429bc48544169fcbdb712e899e076bd954ff4ae1\"),\n",
       " Commit(sha=\"1a062b28be4338c862a070e68264a3529d790655\")]"
      ]
     },
     "execution_count": 31,
     "metadata": {},
     "output_type": "execute_result"
    }
   ],
   "source": [
    "aocCommits = list(aoc2019.get_commits())\n",
    "aocCommits"
   ]
  },
  {
   "cell_type": "code",
   "execution_count": 43,
   "metadata": {},
   "outputs": [],
   "source": [
    "# learned about commit.stats after the fact which will do this for the whole comit rather than by file...\n",
    "def activity(file): return file.additions + file.changes + file.deletions"
   ]
  },
  {
   "cell_type": "code",
   "execution_count": 53,
   "metadata": {},
   "outputs": [],
   "source": [
    "# aocCommits[0].commit.committer.date # use autocomplete to figure out what's in the API without looking at the docs constantly\n",
    "# use a couple of list comprehensions here.  It's nice to work with these API reponses as python objects so I can just write python!\n",
    "\n",
    "# commitData will have tuples of commit datetime and the total number of lines added/deleted/changed across all files in the commit\n",
    "\n",
    "commitData = [(commit.commit.committer.date, sum([activity(x) for x in commit.files])) for commit in aocCommits]"
   ]
  },
  {
   "cell_type": "markdown",
   "metadata": {},
   "source": [
    "OK, now let's do some data science.  We'll just see if we can learn about how hard the various day's challenges were.  We'll plot how much code I wrote/changed/deleted for each commit and that should give us a sense for relative difficulty"
   ]
  },
  {
   "cell_type": "code",
   "execution_count": 54,
   "metadata": {},
   "outputs": [
    {
     "data": {
      "text/html": [
       "<div>\n",
       "<style scoped>\n",
       "    .dataframe tbody tr th:only-of-type {\n",
       "        vertical-align: middle;\n",
       "    }\n",
       "\n",
       "    .dataframe tbody tr th {\n",
       "        vertical-align: top;\n",
       "    }\n",
       "\n",
       "    .dataframe thead th {\n",
       "        text-align: right;\n",
       "    }\n",
       "</style>\n",
       "<table border=\"1\" class=\"dataframe\">\n",
       "  <thead>\n",
       "    <tr style=\"text-align: right;\">\n",
       "      <th></th>\n",
       "      <th>activity</th>\n",
       "    </tr>\n",
       "    <tr>\n",
       "      <th>date</th>\n",
       "      <th></th>\n",
       "    </tr>\n",
       "  </thead>\n",
       "  <tbody>\n",
       "    <tr>\n",
       "      <th>2019-12-27 19:19:07+00:00</th>\n",
       "      <td>2572</td>\n",
       "    </tr>\n",
       "    <tr>\n",
       "      <th>2019-12-24 17:57:07+00:00</th>\n",
       "      <td>386</td>\n",
       "    </tr>\n",
       "    <tr>\n",
       "      <th>2019-12-18 21:07:14+00:00</th>\n",
       "      <td>578</td>\n",
       "    </tr>\n",
       "    <tr>\n",
       "      <th>2019-12-18 17:47:46+00:00</th>\n",
       "      <td>580</td>\n",
       "    </tr>\n",
       "    <tr>\n",
       "      <th>2019-12-14 02:16:43+00:00</th>\n",
       "      <td>182</td>\n",
       "    </tr>\n",
       "    <tr>\n",
       "      <th>2019-12-12 17:21:28+00:00</th>\n",
       "      <td>280</td>\n",
       "    </tr>\n",
       "    <tr>\n",
       "      <th>2019-12-11 17:29:45+00:00</th>\n",
       "      <td>226</td>\n",
       "    </tr>\n",
       "    <tr>\n",
       "      <th>2019-12-10 17:13:51+00:00</th>\n",
       "      <td>308</td>\n",
       "    </tr>\n",
       "    <tr>\n",
       "      <th>2019-12-09 22:02:16+00:00</th>\n",
       "      <td>264</td>\n",
       "    </tr>\n",
       "    <tr>\n",
       "      <th>2019-12-09 21:37:23+00:00</th>\n",
       "      <td>116</td>\n",
       "    </tr>\n",
       "    <tr>\n",
       "      <th>2019-12-09 20:41:04+00:00</th>\n",
       "      <td>466</td>\n",
       "    </tr>\n",
       "    <tr>\n",
       "      <th>2019-12-09 04:42:40+00:00</th>\n",
       "      <td>3412</td>\n",
       "    </tr>\n",
       "    <tr>\n",
       "      <th>2019-12-05 17:06:56+00:00</th>\n",
       "      <td>324</td>\n",
       "    </tr>\n",
       "    <tr>\n",
       "      <th>2019-12-03 18:15:34+00:00</th>\n",
       "      <td>296</td>\n",
       "    </tr>\n",
       "    <tr>\n",
       "      <th>2019-12-03 02:55:07+00:00</th>\n",
       "      <td>96</td>\n",
       "    </tr>\n",
       "    <tr>\n",
       "      <th>2019-12-03 02:30:57+00:00</th>\n",
       "      <td>336</td>\n",
       "    </tr>\n",
       "  </tbody>\n",
       "</table>\n",
       "</div>"
      ],
      "text/plain": [
       "                           activity\n",
       "date                               \n",
       "2019-12-27 19:19:07+00:00      2572\n",
       "2019-12-24 17:57:07+00:00       386\n",
       "2019-12-18 21:07:14+00:00       578\n",
       "2019-12-18 17:47:46+00:00       580\n",
       "2019-12-14 02:16:43+00:00       182\n",
       "2019-12-12 17:21:28+00:00       280\n",
       "2019-12-11 17:29:45+00:00       226\n",
       "2019-12-10 17:13:51+00:00       308\n",
       "2019-12-09 22:02:16+00:00       264\n",
       "2019-12-09 21:37:23+00:00       116\n",
       "2019-12-09 20:41:04+00:00       466\n",
       "2019-12-09 04:42:40+00:00      3412\n",
       "2019-12-05 17:06:56+00:00       324\n",
       "2019-12-03 18:15:34+00:00       296\n",
       "2019-12-03 02:55:07+00:00        96\n",
       "2019-12-03 02:30:57+00:00       336"
      ]
     },
     "execution_count": 54,
     "metadata": {},
     "output_type": "execute_result"
    }
   ],
   "source": [
    "import pandas as pd\n",
    "commitDF = pd.DataFrame(commitData, columns = [\"date\", \"activity\"]).set_index('date')\n",
    "\n",
    "commitDF"
   ]
  },
  {
   "cell_type": "code",
   "execution_count": 57,
   "metadata": {},
   "outputs": [
    {
     "data": {
      "text/plain": [
       "<Axes: xlabel='date'>"
      ]
     },
     "execution_count": 57,
     "metadata": {},
     "output_type": "execute_result"
    },
    {
     "data": {
      "image/png": "[encoded data removed]",
      "text/plain": [
       "<Figure size 640x480 with 1 Axes>"
      ]
     },
     "metadata": {},
     "output_type": "display_data"
    }
   ],
   "source": [
    "#Ta-da!!\n",
    "commitDF.plot()"
   ]
  },
  {
   "cell_type": "code",
   "execution_count": null,
   "metadata": {},
   "outputs": [],
   "source": []
  }
 ],
 "metadata": {
  "anaconda-cloud": {},
  "kernelspec": {
   "display_name": "Python 3",
   "language": "python",
   "name": "python3"
  },
  "language_info": {
   "codemirror_mode": {
    "name": "ipython",
    "version": 3
   },
   "file_extension": ".py",
   "mimetype": "text/x-python",
   "name": "python",
   "nbconvert_exporter": "python",
   "pygments_lexer": "ipython3",
   "version": "3.12.3"
  }
 },
 "nbformat": 4,
 "nbformat_minor": 1
}
