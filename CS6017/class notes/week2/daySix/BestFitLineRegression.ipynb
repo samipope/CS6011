{
 "cells": [
  {
   "cell_type": "markdown",
   "metadata": {},
   "source": [
    "We hate using absolute value bc makes a rigid graph that calculus can’t help us with\n",
    "\n",
    "# linear regression: fitting a line to our data points\n",
    "\tuse least squares regression model"
   ]
  },
  {
   "cell_type": "markdown",
   "metadata": {},
   "source": [
    "*** how good is our line? ***\n",
    "absolute error = sum of difference of predictions\n",
    "\tresidual sum of squares\n",
    "\n",
    "total sum of squares\n",
    "TSS\n",
    "\n",
    "R^2 is close to 1 == close to perfect relationship\n",
    "RSS < or Equal to TSS\n"
   ]
  },
  {
   "cell_type": "markdown",
   "metadata": {},
   "source": [
    "plt.scatter \n",
    "\n",
    "do this multiple times for each of the types of advertizement! \n",
    "can put them all on the same graph\n",
    "\n",
    "OLS --> ordinary least squares\n",
    "    there is a straight forward formula and u put it in and get out the coefficents\n",
    "\n",
    "R-squared of 0.6 means that 60% of the data is explained by our formula/line. 40% is noise\n",
    "\n"
   ]
  }
 ],
 "metadata": {
  "language_info": {
   "name": "python"
  },
  "orig_nbformat": 4
 },
 "nbformat": 4,
 "nbformat_minor": 2
}
